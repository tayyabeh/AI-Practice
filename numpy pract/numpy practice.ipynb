{
 "cells": [
  {
   "cell_type": "markdown",
   "metadata": {},
   "source": [
    "### Numpy Practice"
   ]
  },
  {
   "cell_type": "code",
   "execution_count": 1,
   "metadata": {},
   "outputs": [
    {
     "name": "stdout",
     "output_type": "stream",
     "text": [
      "Requirement already satisfied: numpy in c:\\users\\tayya\\appdata\\local\\programs\\python\\python313\\lib\\site-packages (2.2.2)\n",
      "Note: you may need to restart the kernel to use updated packages.\n"
     ]
    },
    {
     "name": "stderr",
     "output_type": "stream",
     "text": [
      "\n",
      "[notice] A new release of pip is available: 24.3.1 -> 25.0.1\n",
      "[notice] To update, run: python.exe -m pip install --upgrade pip\n"
     ]
    }
   ],
   "source": [
    "%pip install numpy"
   ]
  },
  {
   "cell_type": "code",
   "execution_count": 2,
   "metadata": {},
   "outputs": [],
   "source": [
    "import numpy as np"
   ]
  },
  {
   "cell_type": "code",
   "execution_count": 4,
   "metadata": {},
   "outputs": [
    {
     "data": {
      "text/plain": [
       "array([1, 2, 3])"
      ]
     },
     "execution_count": 4,
     "metadata": {},
     "output_type": "execute_result"
    }
   ],
   "source": [
    "np.array([1, 2, 3]) # 1D array and vector\n"
   ]
  },
  {
   "cell_type": "code",
   "execution_count": 12,
   "metadata": {},
   "outputs": [
    {
     "name": "stdout",
     "output_type": "stream",
     "text": [
      "[[1 2 3]\n",
      " [4 5 6]]\n"
     ]
    }
   ],
   "source": [
    "# 2D and 3 D \n",
    "b = np.array([[1, 2, 3], [4, 5, 6]]) # matrix \n",
    "print(b)\n"
   ]
  },
  {
   "cell_type": "markdown",
   "metadata": {},
   "source": [
    " 3D array \n",
    "First dimension (Depth/Layers): 2\n",
    "\n",
    "There are 2 main blocks/layers\n",
    "Second dimension (Rows): 2\n",
    "\n",
    "Each layer has 2 rows\n",
    "Third dimension (Columns): 3\n",
    "\n",
    "Each row has 3 elements"
   ]
  },
  {
   "cell_type": "code",
   "execution_count": null,
   "metadata": {},
   "outputs": [
    {
     "data": {
      "text/plain": [
       "array([[[ 3,  2],\n",
       "        [ 3,  4]],\n",
       "\n",
       "       [[ 5,  8],\n",
       "        [ 9,  2]],\n",
       "\n",
       "       [[ 7, 12],\n",
       "        [13, 14]]])"
      ]
     },
     "execution_count": 24,
     "metadata": {},
     "output_type": "execute_result"
    }
   ],
   "source": [
    "c = np.array([[[1, 2, 3], [4, 5, 6]], [[1, 2, 3], [4, 5, 6]]]) # 3D array\n",
    "c"
   ]
  },
  {
   "cell_type": "code",
   "execution_count": 37,
   "metadata": {},
   "outputs": [
    {
     "data": {
      "text/plain": [
       "array([[['1', '2', '3'],\n",
       "        ['4', '5', '6']],\n",
       "\n",
       "       [['1', '2', '3'],\n",
       "        ['4', '5', '6']]], dtype='<U1')"
      ]
     },
     "execution_count": 37,
     "metadata": {},
     "output_type": "execute_result"
    }
   ],
   "source": [
    "# dtype : data type of the array\n",
    "# dtype=str tells NumPy to store them as strings\n",
    "a = np.array([0, 2, 3], dtype=str) # 1D array\n",
    "b = np.array([[1, 2, 3], [4, 5, 6]],dtype =str) # 2D array\n",
    "c = np.array([[[1, 2, 3], [4, 5, 6]], [[1, 2, 3], [4, 5, 6]]],dtype=str) # 3D array\n",
    "# c.dtype\n",
    "c"
   ]
  },
  {
   "cell_type": "code",
   "execution_count": 209,
   "metadata": {},
   "outputs": [
    {
     "data": {
      "text/plain": [
       "array([[[1, 2, 3],\n",
       "        [4, 5, 6]],\n",
       "\n",
       "       [[1, 2, 3],\n",
       "        [4, 5, 6]]], dtype=int8)"
      ]
     },
     "execution_count": 209,
     "metadata": {},
     "output_type": "execute_result"
    }
   ],
   "source": [
    "#  astype function\n",
    "# Convert from one type to another\n",
    "a=a.astype(np.int32) # converts your 1D array to int32\n",
    "b=b.astype(np.int16) # converts your 2D array to int16\n",
    "c = c.astype(np.int8) # converts your 3D array to int8\n",
    "c # converts your 3D array to int"
   ]
  },
  {
   "cell_type": "code",
   "execution_count": null,
   "metadata": {},
   "outputs": [
    {
     "name": "stdout",
     "output_type": "stream",
     "text": [
      "[0 1 2 3 4 5 6 7 8 9]\n",
      "[1 3 5 7 9]\n"
     ]
    }
   ],
   "source": [
    "# np.arrange\n",
    "a = np.arange(10) # 1D array\n",
    "b = np.arange(1, 10, 2) # 1D array with step\n",
    "print(a)\n",
    "print(b)"
   ]
  },
  {
   "cell_type": "code",
   "execution_count": null,
   "metadata": {},
   "outputs": [
    {
     "data": {
      "text/plain": [
       "array([[0, 1, 2, 3, 4],\n",
       "       [5, 6, 7, 8, 9]])"
      ]
     },
     "execution_count": 49,
     "metadata": {},
     "output_type": "execute_result"
    }
   ],
   "source": [
    "# reshape\n",
    "np.arange(10).reshape(2, 5) # 2D array\n",
    "# reshape allows you to change the shape/dimensions of an array while keeping the total number of elements the same.\n",
    "np.arange(1,19).reshape(2,3,3) # 3D array arrange\n"
   ]
  },
  {
   "cell_type": "code",
   "execution_count": 154,
   "metadata": {},
   "outputs": [
    {
     "data": {
      "text/plain": [
       "array([[[0., 0., 0.],\n",
       "        [0., 0., 0.],\n",
       "        [0., 0., 0.]],\n",
       "\n",
       "       [[0., 0., 0.],\n",
       "        [0., 0., 0.],\n",
       "        [0., 0., 0.]],\n",
       "\n",
       "       [[0., 0., 0.],\n",
       "        [0., 0., 0.],\n",
       "        [0., 0., 0.]]])"
      ]
     },
     "execution_count": 154,
     "metadata": {},
     "output_type": "execute_result"
    }
   ],
   "source": [
    "# np.ones and np.zeros\n",
    "np.ones(10) # 1D array of ones\n",
    "np.ones((2, 3)) # 2D array of ones\n",
    "np.ones((3,3,3)) # 3D array of ones\n",
    "np.zeros(10) # 1D array of zeros\n",
    "np.zeros((2, 3)) # 2D array of zeros\n",
    "np.zeros((3,3,3)) # 3D array of zeros"
   ]
  },
  {
   "cell_type": "code",
   "execution_count": null,
   "metadata": {},
   "outputs": [
    {
     "data": {
      "text/plain": [
       "array([[[0.75941529, 0.23250837],\n",
       "        [0.97173701, 0.09684162]],\n",
       "\n",
       "       [[0.34837762, 0.00946501],\n",
       "        [0.92016443, 0.5332041 ]]])"
      ]
     },
     "execution_count": 168,
     "metadata": {},
     "output_type": "execute_result"
    }
   ],
   "source": [
    "np.random.random(10) # 1D array of random numbers between 0 and 1\n",
    "np.random.random((2, 3)) # 2D array of random numbers between 0 and 1\n",
    "np.random.random((2,2,2)) # 3D array of random numbers between 0 and 1"
   ]
  },
  {
   "cell_type": "code",
   "execution_count": null,
   "metadata": {},
   "outputs": [
    {
     "data": {
      "text/plain": [
       "array([[[0.51832961, 0.93930339],\n",
       "        [0.16045592, 0.31589234]],\n",
       "\n",
       "       [[0.32137707, 0.16802775],\n",
       "        [0.18010704, 0.07667944]]])"
      ]
     },
     "execution_count": 183,
     "metadata": {},
     "output_type": "execute_result"
    }
   ],
   "source": [
    "np.random.random(10).reshape(5,2) # 2D array of random numbers between 0 and 1\n",
    "np.random.random(8).reshape(2,2,2) # 3D array of random numbers between 0 and 1\n"
   ]
  },
  {
   "cell_type": "code",
   "execution_count": null,
   "metadata": {},
   "outputs": [
    {
     "data": {
      "text/plain": [
       "array([-10.        ,  -7.77777778,  -5.55555556,  -3.33333333,\n",
       "        -1.11111111,   1.11111111,   3.33333333,   5.55555556,\n",
       "         7.77777778,  10.        ])"
      ]
     },
     "execution_count": 175,
     "metadata": {},
     "output_type": "execute_result"
    }
   ],
   "source": [
    "np.linspace(-10, 10, 10) # provide equal distance between the numbers you give\n",
    "np.linspace(0,10,8).reshape(4,2) # 2D array\n",
    "np.linspace(0,10,8).reshape(2,2,2) # 3D array"
   ]
  },
  {
   "cell_type": "code",
   "execution_count": 53,
   "metadata": {},
   "outputs": [
    {
     "data": {
      "text/plain": [
       "array([[1., 0., 0.],\n",
       "       [0., 1., 0.],\n",
       "       [0., 0., 1.]])"
      ]
     },
     "execution_count": 53,
     "metadata": {},
     "output_type": "execute_result"
    }
   ],
   "source": [
    "np.identity(3) # 3x3 identity matrix"
   ]
  },
  {
   "cell_type": "markdown",
   "metadata": {},
   "source": [
    "Attributes"
   ]
  },
  {
   "cell_type": "code",
   "execution_count": 54,
   "metadata": {},
   "outputs": [],
   "source": [
    "a1 = np.arange(10) # 1D array\n",
    "a2 = np.arange(12).reshape(3, 4) # 2D array\n",
    "a3 = np.arange(8).reshape(2, 2, 2) # 3D array"
   ]
  },
  {
   "cell_type": "code",
   "execution_count": 55,
   "metadata": {},
   "outputs": [
    {
     "data": {
      "text/plain": [
       "3"
      ]
     },
     "execution_count": 55,
     "metadata": {},
     "output_type": "execute_result"
    }
   ],
   "source": [
    "# ndim : tell you the number of dimensions of the array\n",
    "a1.ndim # 1 \n",
    "a2.ndim # 2\n",
    "a3.ndim # 3"
   ]
  },
  {
   "cell_type": "code",
   "execution_count": 56,
   "metadata": {},
   "outputs": [
    {
     "data": {
      "text/plain": [
       "(2, 2, 2)"
      ]
     },
     "execution_count": 56,
     "metadata": {},
     "output_type": "execute_result"
    }
   ],
   "source": [
    "# shape : tell you the shape of the array\n",
    "a1.shape # (10,)\n",
    "a2.shape # (3, 4)\n",
    "a3.shape # (2, 2, 2) 2 rows, 2 columns, 2 depth"
   ]
  },
  {
   "cell_type": "code",
   "execution_count": 57,
   "metadata": {},
   "outputs": [
    {
     "data": {
      "text/plain": [
       "8"
      ]
     },
     "execution_count": 57,
     "metadata": {},
     "output_type": "execute_result"
    }
   ],
   "source": [
    "# size : tell you the number of elements in the array\n",
    "a1.size # 10\n",
    "a2.size # 12\n",
    "a3.size # 8\n"
   ]
  },
  {
   "cell_type": "code",
   "execution_count": null,
   "metadata": {},
   "outputs": [
    {
     "data": {
      "text/plain": [
       "8"
      ]
     },
     "execution_count": 58,
     "metadata": {},
     "output_type": "execute_result"
    }
   ],
   "source": [
    "# itemsize : tell you the size of each element in the array in bytes and 1 byte is equal to 8 bits.\n",
    "a1.itemsize # 8\n",
    "a2.itemsize # 8\n",
    "a3.itemsize # 8 8 bytes for each element in the array"
   ]
  },
  {
   "cell_type": "code",
   "execution_count": 210,
   "metadata": {},
   "outputs": [
    {
     "data": {
      "text/plain": [
       "dtype('int16')"
      ]
     },
     "execution_count": 210,
     "metadata": {},
     "output_type": "execute_result"
    }
   ],
   "source": [
    "b.dtype"
   ]
  },
  {
   "cell_type": "code",
   "execution_count": 212,
   "metadata": {},
   "outputs": [
    {
     "data": {
      "text/plain": [
       "2"
      ]
     },
     "execution_count": 212,
     "metadata": {},
     "output_type": "execute_result"
    }
   ],
   "source": [
    "b.itemsize"
   ]
  },
  {
   "cell_type": "code",
   "execution_count": 59,
   "metadata": {},
   "outputs": [
    {
     "data": {
      "text/plain": [
       "dtype('int64')"
      ]
     },
     "execution_count": 59,
     "metadata": {},
     "output_type": "execute_result"
    }
   ],
   "source": [
    "# dtype : tell you the data type of the elements in the array\n",
    "a1.dtype # dtype('int64')\n",
    "a2.dtype # dtype('int64')\n",
    "a3.dtype # dtype('int64')"
   ]
  },
  {
   "cell_type": "code",
   "execution_count": 60,
   "metadata": {},
   "outputs": [
    {
     "data": {
      "text/plain": [
       "array([0., 1., 2., 3., 4., 5., 6., 7., 8., 9.])"
      ]
     },
     "execution_count": 60,
     "metadata": {},
     "output_type": "execute_result"
    }
   ],
   "source": [
    "# Changing the data type of an array\n",
    "# astype() method\n",
    "a1.astype(float) # change the data type of the array to float"
   ]
  },
  {
   "cell_type": "code",
   "execution_count": 61,
   "metadata": {},
   "outputs": [],
   "source": [
    "# array operations \n",
    "a1 = np.arange(12).reshape(3,4)\n",
    "a2 = np.arange(12).reshape(3,4)"
   ]
  },
  {
   "cell_type": "code",
   "execution_count": 62,
   "metadata": {},
   "outputs": [
    {
     "data": {
      "text/plain": [
       "array([[0. , 0.5, 1. , 1.5],\n",
       "       [2. , 2.5, 3. , 3.5],\n",
       "       [4. , 4.5, 5. , 5.5]])"
      ]
     },
     "execution_count": 62,
     "metadata": {},
     "output_type": "execute_result"
    }
   ],
   "source": [
    "# scalar operations\n",
    "a1 + 2 # 2 is scalar\n",
    "a1 - 2\n",
    "a1 * 2\n",
    "a1 / 2\n"
   ]
  },
  {
   "cell_type": "code",
   "execution_count": 63,
   "metadata": {},
   "outputs": [
    {
     "data": {
      "text/plain": [
       "array([[ True,  True,  True,  True],\n",
       "       [ True, False,  True,  True],\n",
       "       [ True,  True,  True,  True]])"
      ]
     },
     "execution_count": 63,
     "metadata": {},
     "output_type": "execute_result"
    }
   ],
   "source": [
    "# relational operations\n",
    "a2 > 5 # returns a boolean array \n",
    "a2 == 5\n",
    "a2 != 5\n"
   ]
  },
  {
   "cell_type": "code",
   "execution_count": 64,
   "metadata": {},
   "outputs": [
    {
     "data": {
      "text/plain": [
       "array([[ 0,  2,  4,  6],\n",
       "       [ 8, 10, 12, 14],\n",
       "       [16, 18, 20, 22]])"
      ]
     },
     "execution_count": 64,
     "metadata": {},
     "output_type": "execute_result"
    }
   ],
   "source": [
    "# vector operations\n",
    "a1 + a2 # element-wise addition"
   ]
  },
  {
   "cell_type": "code",
   "execution_count": 65,
   "metadata": {},
   "outputs": [],
   "source": [
    "'''\n",
    "A tensor is a mathematical object that can be thought of as a generalization of vectors and matrices to potentially higher dimensions. Here's a breakdown:\n",
    "\n",
    "Tensor Dimensions (Ranks):\n",
    "\n",
    "Scalar (0D Tensor): Single number\n",
    "Vector (1D Tensor): Array of numbers\n",
    "Matrix (2D Tensor): Table of numbers\n",
    "3D Tensor: Cube of numbers\n",
    "Higher Dimensions: 4D, 5D, etc.\n",
    "'''\n",
    "# Scalar (0D Tensor)\n",
    "scalar = 5\n",
    "\n",
    "# Vector (1D Tensor)\n",
    "vector = np.array([1, 2, 3])\n",
    "\n",
    "# Matrix (2D Tensor)\n",
    "matrix = np.array([[1, 2, 3],\n",
    "                   [4, 5, 6]])\n",
    "\n",
    "# 3D Tensor (like your array 'c')\n",
    "tensor_3d = np.array([[[1, 2, 3],\n",
    "                       [4, 5, 6]],\n",
    "                      [[1, 2, 3],\n",
    "                       [4, 5, 6]]])"
   ]
  },
  {
   "cell_type": "markdown",
   "metadata": {},
   "source": [
    "Array functions"
   ]
  },
  {
   "cell_type": "code",
   "execution_count": 66,
   "metadata": {},
   "outputs": [
    {
     "data": {
      "text/plain": [
       "array([[5., 3., 8.],\n",
       "       [8., 6., 1.],\n",
       "       [8., 9., 3.]])"
      ]
     },
     "execution_count": 66,
     "metadata": {},
     "output_type": "execute_result"
    }
   ],
   "source": [
    "# Array Functions\n",
    "a1 = np.random.random((3, 3)) # 2D array of random numbers between 0 and 1\n",
    "a1 = np.round(a1* 10) # round the elements of the array to 2 decimal places\n",
    "a1"
   ]
  },
  {
   "cell_type": "code",
   "execution_count": 67,
   "metadata": {},
   "outputs": [
    {
     "data": {
      "text/plain": [
       "np.float64(1244160.0)"
      ]
     },
     "execution_count": 67,
     "metadata": {},
     "output_type": "execute_result"
    }
   ],
   "source": [
    "# max and min and sum and prod\n",
    "np.max(a1) # maximum value in the array\n",
    "np.min(a1) # minimum value in the array\n",
    "np.sum(a1) # sum of all the elements in the array\n",
    "np.prod(a1) # product of all the elements in the array"
   ]
  },
  {
   "cell_type": "code",
   "execution_count": 68,
   "metadata": {},
   "outputs": [
    {
     "data": {
      "text/plain": [
       "array([3., 1., 3.])"
      ]
     },
     "execution_count": 68,
     "metadata": {},
     "output_type": "execute_result"
    }
   ],
   "source": [
    "np.max(a1 , axis = 0) # maximum value in each column and for row axis = 1\n",
    "np.min(a1 , axis = 1) # minimum value in each column and for row axis = 1"
   ]
  },
  {
   "cell_type": "code",
   "execution_count": 69,
   "metadata": {},
   "outputs": [
    {
     "data": {
      "text/plain": [
       "np.float64(7.111111111111111)"
      ]
     },
     "execution_count": 69,
     "metadata": {},
     "output_type": "execute_result"
    }
   ],
   "source": [
    "# mean and median  and std and var\n",
    "np.mean(a1) # mean of all the elements in the array\n",
    "np.median(a1) # median of all the elements in the array\n",
    "np.std(a1) # standard deviation of all the elements in the array\n",
    "np.var(a1) # variance of all the elements in the array"
   ]
  },
  {
   "cell_type": "code",
   "execution_count": 70,
   "metadata": {},
   "outputs": [
    {
     "data": {
      "text/plain": [
       "array([[-0.95892427,  0.14112001,  0.98935825],\n",
       "       [ 0.98935825, -0.2794155 ,  0.84147098],\n",
       "       [ 0.98935825,  0.41211849,  0.14112001]])"
      ]
     },
     "execution_count": 70,
     "metadata": {},
     "output_type": "execute_result"
    }
   ],
   "source": [
    "# trigonometric functions\n",
    "np.sin(a1) # sine of all the elements in the array"
   ]
  },
  {
   "cell_type": "code",
   "execution_count": 71,
   "metadata": {},
   "outputs": [
    {
     "data": {
      "text/plain": [
       "array([[ 42,  48,  54],\n",
       "       [114, 136, 158],\n",
       "       [186, 224, 262]])"
      ]
     },
     "execution_count": 71,
     "metadata": {},
     "output_type": "execute_result"
    }
   ],
   "source": [
    "# dot product\n",
    "# phele wala column and dusre wala row same hona chahiye\n",
    "# first one should have same number of columns as the second one has rows\n",
    "# eg 3x4 and 4x3\n",
    "\n",
    "a1 = np.arange(12).reshape(3, 4)\n",
    "a2 = np.arange(12).reshape(4, 3)\n",
    "np.dot(a1, a2) # dot product of the two arrays\n"
   ]
  },
  {
   "cell_type": "code",
   "execution_count": 72,
   "metadata": {},
   "outputs": [
    {
     "name": "stderr",
     "output_type": "stream",
     "text": [
      "C:\\Users\\tayya\\AppData\\Local\\Temp\\ipykernel_10980\\1382442540.py:3: RuntimeWarning: divide by zero encountered in log\n",
      "  np.log(a1) # natural logarithm of all the elements in the array\n"
     ]
    },
    {
     "data": {
      "text/plain": [
       "array([[1.00000000e+00, 2.71828183e+00, 7.38905610e+00, 2.00855369e+01],\n",
       "       [5.45981500e+01, 1.48413159e+02, 4.03428793e+02, 1.09663316e+03],\n",
       "       [2.98095799e+03, 8.10308393e+03, 2.20264658e+04, 5.98741417e+04]])"
      ]
     },
     "execution_count": 72,
     "metadata": {},
     "output_type": "execute_result"
    }
   ],
   "source": [
    "# log and exp\n",
    "\n",
    "np.log(a1) # natural logarithm of all the elements in the array\n",
    "np.exp(a1) # exponential of all the"
   ]
  },
  {
   "cell_type": "code",
   "execution_count": 73,
   "metadata": {},
   "outputs": [
    {
     "data": {
      "text/plain": [
       "array([[ 0,  1,  2,  3],\n",
       "       [ 4,  5,  6,  7],\n",
       "       [ 8,  9, 10, 11]])"
      ]
     },
     "execution_count": 73,
     "metadata": {},
     "output_type": "execute_result"
    }
   ],
   "source": [
    "# round and floor and ceil\n",
    "np.round(a1) # round the elements of the array to 2 decimal places\n",
    "np.floor(a1) # round down the elements of the array\n",
    "np.ceil(a1) # round up the elements of the array\n"
   ]
  },
  {
   "cell_type": "markdown",
   "metadata": {},
   "source": [
    "Indexing and Slicing"
   ]
  },
  {
   "cell_type": "code",
   "execution_count": null,
   "metadata": {},
   "outputs": [],
   "source": []
  },
  {
   "cell_type": "code",
   "execution_count": 74,
   "metadata": {},
   "outputs": [],
   "source": [
    "a1 = np.arange(10) # 1D array\n",
    "a2 = np.arange(12).reshape(3, 4) # 2D array\n",
    "a3 = np.arange(8).reshape(2, 2, 2) # 3D array"
   ]
  },
  {
   "cell_type": "code",
   "execution_count": 75,
   "metadata": {},
   "outputs": [
    {
     "data": {
      "text/plain": [
       "array([[[0, 1],\n",
       "        [2, 3]],\n",
       "\n",
       "       [[4, 5],\n",
       "        [6, 7]]])"
      ]
     },
     "execution_count": 75,
     "metadata": {},
     "output_type": "execute_result"
    }
   ],
   "source": [
    "a3"
   ]
  },
  {
   "cell_type": "code",
   "execution_count": 76,
   "metadata": {},
   "outputs": [
    {
     "data": {
      "text/plain": [
       "np.int64(3)"
      ]
     },
     "execution_count": 76,
     "metadata": {},
     "output_type": "execute_result"
    }
   ],
   "source": [
    "# Indexing \n",
    "a1[0] # first element of the array\n",
    "a1[-1] # last element of the array\n",
    "a2[0, 0] # first element of the matrix (row 0, column 0)\n",
    "a3[0, 1, 1] # first element of the 3D array (depth 0, row 0, column 0)"
   ]
  },
  {
   "cell_type": "code",
   "execution_count": 77,
   "metadata": {},
   "outputs": [
    {
     "data": {
      "text/plain": [
       "array([[ 0,  1,  2,  3],\n",
       "       [ 4,  5,  6,  7],\n",
       "       [ 8,  9, 10, 11]])"
      ]
     },
     "execution_count": 77,
     "metadata": {},
     "output_type": "execute_result"
    }
   ],
   "source": [
    "a2"
   ]
  },
  {
   "cell_type": "code",
   "execution_count": 78,
   "metadata": {},
   "outputs": [
    {
     "data": {
      "text/plain": [
       "array([[0, 1],\n",
       "       [2, 3]])"
      ]
     },
     "execution_count": 78,
     "metadata": {},
     "output_type": "execute_result"
    }
   ],
   "source": [
    "# slicing\n",
    "a1[2:5] # elements from index 2 to 4\n",
    "a2[1:3, 1:3] # elements from row 1 to 2 and column 1 to 2\n",
    "a3[0, :, :] # all elements of the first depth"
   ]
  },
  {
   "cell_type": "code",
   "execution_count": 79,
   "metadata": {},
   "outputs": [
    {
     "data": {
      "text/plain": [
       "array([[ 0,  3],\n",
       "       [ 8, 11]])"
      ]
     },
     "execution_count": 79,
     "metadata": {},
     "output_type": "execute_result"
    }
   ],
   "source": [
    "a2[::2,::3]"
   ]
  },
  {
   "cell_type": "code",
   "execution_count": 80,
   "metadata": {},
   "outputs": [
    {
     "data": {
      "text/plain": [
       "array([[ 1,  3],\n",
       "       [ 9, 11]])"
      ]
     },
     "execution_count": 80,
     "metadata": {},
     "output_type": "execute_result"
    }
   ],
   "source": [
    "a2[::2,1::2]"
   ]
  },
  {
   "cell_type": "code",
   "execution_count": 81,
   "metadata": {},
   "outputs": [
    {
     "data": {
      "text/plain": [
       "array([[[ 0,  1,  2],\n",
       "        [ 3,  4,  5],\n",
       "        [ 6,  7,  8]],\n",
       "\n",
       "       [[ 9, 10, 11],\n",
       "        [12, 13, 14],\n",
       "        [15, 16, 17]],\n",
       "\n",
       "       [[18, 19, 20],\n",
       "        [21, 22, 23],\n",
       "        [24, 25, 26]]])"
      ]
     },
     "execution_count": 81,
     "metadata": {},
     "output_type": "execute_result"
    }
   ],
   "source": [
    "a4 = np.arange(27).reshape(3,3,3)\n",
    "a4"
   ]
  },
  {
   "cell_type": "code",
   "execution_count": 82,
   "metadata": {},
   "outputs": [
    {
     "data": {
      "text/plain": [
       "array([[22, 23],\n",
       "       [25, 26]])"
      ]
     },
     "execution_count": 82,
     "metadata": {},
     "output_type": "execute_result"
    }
   ],
   "source": [
    "a4[1]\n",
    "# array([[ 9, 10, 11],\n",
    "#        [12, 13, 14],\n",
    "#        [15, 16, 17]])\n",
    "\n",
    "a4[::2]\n",
    "# array([[[ 0,  1,  2],\n",
    "#         [ 3,  4,  5],\n",
    "#         [ 6,  7,  8]],\n",
    "\n",
    "#        [[18, 19, 20],\n",
    "#         [21, 22, 23],\n",
    "#         [24, 25, 26]]])\n",
    "\n",
    "a4[1,:,1] # array([10, 13, 16])\n",
    "\n",
    "a4[2,1:3,1:3]\n",
    "# array([[22, 23],\n",
    "#        [25, 26]])"
   ]
  },
  {
   "cell_type": "code",
   "execution_count": 83,
   "metadata": {},
   "outputs": [
    {
     "data": {
      "text/plain": [
       "array([[ 0,  2],\n",
       "       [18, 20]])"
      ]
     },
     "execution_count": 83,
     "metadata": {},
     "output_type": "execute_result"
    }
   ],
   "source": [
    "a4[::2, 0, 0::2]"
   ]
  },
  {
   "cell_type": "markdown",
   "metadata": {},
   "source": [
    "Iterating"
   ]
  },
  {
   "cell_type": "code",
   "execution_count": 84,
   "metadata": {},
   "outputs": [
    {
     "data": {
      "text/plain": [
       "array([[ 0,  1,  2,  3],\n",
       "       [ 4,  5,  6,  7],\n",
       "       [ 8,  9, 10, 11]])"
      ]
     },
     "execution_count": 84,
     "metadata": {},
     "output_type": "execute_result"
    }
   ],
   "source": [
    "a2"
   ]
  },
  {
   "cell_type": "code",
   "execution_count": 85,
   "metadata": {},
   "outputs": [
    {
     "name": "stdout",
     "output_type": "stream",
     "text": [
      "0\n",
      "1\n",
      "2\n",
      "3\n",
      "4\n",
      "5\n",
      "6\n",
      "7\n",
      "8\n",
      "9\n",
      "10\n",
      "11\n",
      "12\n",
      "13\n",
      "14\n",
      "15\n",
      "16\n",
      "17\n",
      "18\n",
      "19\n",
      "20\n",
      "21\n",
      "22\n",
      "23\n",
      "24\n",
      "25\n",
      "26\n"
     ]
    }
   ],
   "source": [
    "# for i in a1:\n",
    "#     print(i)\n",
    "\n",
    "# for i in a2:\n",
    "#     for j in i:\n",
    "#         print(j)\n",
    "\n",
    "# for i in a3: \n",
    "#     for j in i:\n",
    "#         for k in j:\n",
    "#             print(k)\n",
    "\n",
    "for i in np.nditer(a4): # for 3D array convert it into 1D array then iterate\n",
    "    print(i)"
   ]
  },
  {
   "cell_type": "markdown",
   "metadata": {},
   "source": [
    "Reshaping"
   ]
  },
  {
   "cell_type": "code",
   "execution_count": 86,
   "metadata": {},
   "outputs": [
    {
     "data": {
      "text/plain": [
       "array([ 0,  1,  2,  3,  4,  5,  6,  7,  8,  9, 10, 11])"
      ]
     },
     "execution_count": 86,
     "metadata": {},
     "output_type": "execute_result"
    }
   ],
   "source": [
    "# transpose and ravel\n",
    "a2.T # transpose of the matrix\n",
    "a2.ravel() # flatten the matrix into a 1D array"
   ]
  },
  {
   "cell_type": "code",
   "execution_count": 87,
   "metadata": {},
   "outputs": [
    {
     "name": "stdout",
     "output_type": "stream",
     "text": [
      "0\n",
      "1\n",
      "2\n",
      "3\n",
      "4\n",
      "5\n",
      "6\n",
      "7\n",
      "8\n",
      "9\n",
      "10\n",
      "11\n",
      "12\n",
      "13\n",
      "14\n",
      "15\n",
      "16\n",
      "17\n",
      "18\n",
      "19\n",
      "20\n",
      "21\n",
      "22\n",
      "23\n",
      "24\n",
      "25\n",
      "26\n"
     ]
    }
   ],
   "source": [
    "for i in a4.ravel(): # for 3D array convert it into 1D array then iterate\n",
    "    print(i)"
   ]
  },
  {
   "cell_type": "markdown",
   "metadata": {},
   "source": [
    "Stacking"
   ]
  },
  {
   "cell_type": "code",
   "execution_count": 88,
   "metadata": {},
   "outputs": [
    {
     "data": {
      "text/plain": [
       "array([[ 0,  1,  2,  3,  0,  1,  2,  3],\n",
       "       [ 4,  5,  6,  7,  4,  5,  6,  7],\n",
       "       [ 8,  9, 10, 11,  8,  9, 10, 11]])"
      ]
     },
     "execution_count": 88,
     "metadata": {},
     "output_type": "execute_result"
    }
   ],
   "source": [
    "# stacking means combining two or more arrays into a single array\n",
    "# like vertical stacking and horizontal stacking eg : 2x3 and 2x3 -> 4x3\n",
    "# np.vstack and np.hstack\n",
    "a5 = np.arange(12).reshape(3,4)\n",
    "a6 = np.arange(12).reshape(3,4)\n",
    "np.vstack((a5, a6)) # vertical stacking\n",
    "np.hstack((a5, a6)) # horizontal stacking"
   ]
  },
  {
   "cell_type": "markdown",
   "metadata": {},
   "source": [
    "Spliting"
   ]
  },
  {
   "cell_type": "code",
   "execution_count": 89,
   "metadata": {},
   "outputs": [
    {
     "data": {
      "text/plain": [
       "[array([[0, 1, 2, 3],\n",
       "        [4, 5, 6, 7]]),\n",
       " array([[ 8,  9, 10, 11],\n",
       "        [ 0,  1,  2,  3]]),\n",
       " array([[ 4,  5,  6,  7],\n",
       "        [ 8,  9, 10, 11]])]"
      ]
     },
     "execution_count": 89,
     "metadata": {},
     "output_type": "execute_result"
    }
   ],
   "source": [
    "a7 = np.vstack((a5, a6))\n",
    "np.hsplit(a7, 2) # split the array into 2 equal parts\n",
    "np.vsplit(a7, 3) # split the array into 3 equal parts"
   ]
  },
  {
   "cell_type": "code",
   "execution_count": 90,
   "metadata": {},
   "outputs": [
    {
     "data": {
      "text/plain": [
       "array([[ 0,  1,  2,  3],\n",
       "       [ 4,  5,  6,  7],\n",
       "       [ 8,  9, 10, 11],\n",
       "       [12, 13, 14, 15],\n",
       "       [16, 17, 18, 19],\n",
       "       [20, 21, 22, 23]])"
      ]
     },
     "execution_count": 90,
     "metadata": {},
     "output_type": "execute_result"
    }
   ],
   "source": [
    "#Advanced indexing\n",
    "a1 = np.arange(24).reshape(6, 4)\n",
    "a1"
   ]
  },
  {
   "cell_type": "code",
   "execution_count": 91,
   "metadata": {},
   "outputs": [
    {
     "data": {
      "text/plain": [
       "array([[ 4,  5,  6,  7],\n",
       "       [12, 13, 14, 15],\n",
       "       [16, 17, 18, 19],\n",
       "       [20, 21, 22, 23]])"
      ]
     },
     "execution_count": 91,
     "metadata": {},
     "output_type": "execute_result"
    }
   ],
   "source": [
    "# Fancy indexing\n",
    "a1[[1,3,4,5]]# select rows 1, 3, 4, and 6"
   ]
  },
  {
   "cell_type": "code",
   "execution_count": 234,
   "metadata": {},
   "outputs": [
    {
     "data": {
      "text/plain": [
       "array([ 4, 13, 18, 23])"
      ]
     },
     "execution_count": 234,
     "metadata": {},
     "output_type": "execute_result"
    }
   ],
   "source": [
    "a1[[1,3,4,5], [0, 1, 2, 3]] # select elements (1, 0), (3, 1), (4, 2), and (5, 3)"
   ]
  },
  {
   "cell_type": "code",
   "execution_count": 230,
   "metadata": {},
   "outputs": [
    {
     "data": {
      "text/plain": [
       "array([ 4, 15, 17, 22])"
      ]
     },
     "execution_count": 230,
     "metadata": {},
     "output_type": "execute_result"
    }
   ],
   "source": [
    "a1[[1,3,4,5],[0,3,1,2]]"
   ]
  },
  {
   "cell_type": "code",
   "execution_count": 92,
   "metadata": {},
   "outputs": [
    {
     "data": {
      "text/plain": [
       "array([[ 1,  2],\n",
       "       [ 5,  6],\n",
       "       [ 9, 10],\n",
       "       [13, 14],\n",
       "       [17, 18],\n",
       "       [21, 22]])"
      ]
     },
     "execution_count": 92,
     "metadata": {},
     "output_type": "execute_result"
    }
   ],
   "source": [
    "a1[:, [1, 2]]  # select columns 1 and 2 from all rows"
   ]
  },
  {
   "cell_type": "code",
   "execution_count": 93,
   "metadata": {},
   "outputs": [
    {
     "data": {
      "text/plain": [
       "array([11, 12, 13, 14, 15, 16, 17, 18, 19, 20, 21, 22, 23])"
      ]
     },
     "execution_count": 93,
     "metadata": {},
     "output_type": "execute_result"
    }
   ],
   "source": [
    "#Boolean indexing\n",
    "a1[a1 > 10] # select elements greater than 10\n"
   ]
  },
  {
   "cell_type": "code",
   "execution_count": 94,
   "metadata": {},
   "outputs": [
    {
     "data": {
      "text/plain": [
       "array([[77,  4,  5, 17],\n",
       "       [18, 98, 48, 93],\n",
       "       [88, 50, 46, 82],\n",
       "       [78, 10, 98, 34],\n",
       "       [89, 19, 44, 29],\n",
       "       [52, 50, 43, 25]], dtype=int32)"
      ]
     },
     "execution_count": 94,
     "metadata": {},
     "output_type": "execute_result"
    }
   ],
   "source": [
    "ra =np.random.randint(1,100,24).reshape(6,4) # 6x4 array with random numbers between 1 and 100\n",
    "ra"
   ]
  },
  {
   "cell_type": "code",
   "execution_count": 95,
   "metadata": {},
   "outputs": [
    {
     "data": {
      "text/plain": [
       "array([77, 98, 93, 88, 82, 78, 98, 89, 52], dtype=int32)"
      ]
     },
     "execution_count": 95,
     "metadata": {},
     "output_type": "execute_result"
    }
   ],
   "source": [
    "# find all the number greater than 50\n",
    "ra[ra > 50] # select elements greater than 50 from the array ra "
   ]
  },
  {
   "cell_type": "code",
   "execution_count": 96,
   "metadata": {},
   "outputs": [
    {
     "data": {
      "text/plain": [
       "array([ 4, 18, 98, 48, 88, 50, 46, 82, 78, 10, 98, 34, 44, 52, 50],\n",
       "      dtype=int32)"
      ]
     },
     "execution_count": 96,
     "metadata": {},
     "output_type": "execute_result"
    }
   ],
   "source": [
    "#find the element  even number\n",
    "ra[ra % 2 == 0 ]"
   ]
  },
  {
   "cell_type": "markdown",
   "metadata": {},
   "source": [
    "Broadcasting"
   ]
  },
  {
   "cell_type": "code",
   "execution_count": 97,
   "metadata": {},
   "outputs": [],
   "source": [
    "# Broadcasting : The term broadcasting refers to the ability of NumPy to treat arrays of different shapes during arithmetic operations.\n",
    "# Arithmetic operations on arrays are usually done on corresponding elements. If two arrays are of the same shape, then these operations are smoothly performed.\n",
    "# If the dimensions of two arrays are dissimilar, element-to-element operations are not possible. However, operations on arrays with different shapes are still possible in NumPy, because of broadcasting.\n",
    "# Rules of Broadcasting\n",
    "# The dimensions of the two arrays are compared element-wise, starting with the trailing dimensions and working their way forward. Two dimensions are compatible when they are equal or one of them is 1. When either of the dimensions compared is one, the other is used. \n",
    "# Make the two array have the same number of dimesions\n",
    "# for eg : 1D and 2D array -> 2D and 2D array -> 2D and 3D array -> 3D and 3D array\n",
    "# Make each dimension of the two array the same size \n",
    "# if one of the dimension is 1 then make it the same size as the other array \n",
    "# if the two array have the same size then you can perform the operation on them \n",
    "# for eg : 3x4 and 1x4 -> 3x4 and 3x1 -> 3x4 and 3x4\n"
   ]
  },
  {
   "cell_type": "markdown",
   "metadata": {},
   "source": []
  },
  {
   "cell_type": "code",
   "execution_count": 98,
   "metadata": {},
   "outputs": [
    {
     "name": "stdout",
     "output_type": "stream",
     "text": [
      "[[ 0  1  2]\n",
      " [ 3  4  5]\n",
      " [ 6  7  8]\n",
      " [ 9 10 11]]\n",
      "[0 1 2]\n"
     ]
    }
   ],
   "source": [
    "a = np.arange(12).reshape(4, 3)\n",
    "b = np.arange(3)\n",
    "\n",
    "print (a)\n",
    "print(b)\n",
    "\n",
    "# (4,3) and (3,) -> (4,3) and (1,3) -> (4,3) and (4,3) streach the 1 dimension to 4"
   ]
  },
  {
   "cell_type": "code",
   "execution_count": 99,
   "metadata": {},
   "outputs": [
    {
     "data": {
      "text/plain": [
       "array([[ 0,  2,  4],\n",
       "       [ 3,  5,  7],\n",
       "       [ 6,  8, 10],\n",
       "       [ 9, 11, 13]])"
      ]
     },
     "execution_count": 99,
     "metadata": {},
     "output_type": "execute_result"
    }
   ],
   "source": [
    "a+b"
   ]
  },
  {
   "cell_type": "code",
   "execution_count": 100,
   "metadata": {},
   "outputs": [],
   "source": [
    "a = np.arange(12).reshape(3, 4)\n",
    "b = np.arange(3)\n",
    "# (3,4) and (3,) -> (3,4) and (1,3) -> (3,4) and (3,3) streach the 1 dimension to 4 but it is not possible so it will give error because the two array have different number of columns \n",
    "\n",
    "# a+b # ValueError: operands could not be broadcast together with shapes (3,4) (3,)\n"
   ]
  },
  {
   "cell_type": "code",
   "execution_count": 101,
   "metadata": {},
   "outputs": [
    {
     "data": {
      "text/plain": [
       "array([[0, 1, 2],\n",
       "       [1, 2, 3],\n",
       "       [2, 3, 4]])"
      ]
     },
     "execution_count": 101,
     "metadata": {},
     "output_type": "execute_result"
    }
   ],
   "source": [
    "a = np.arange(3).reshape(1, 3)\n",
    "b = np.arange(3).reshape(3, 1)\n",
    "# (1,3) and (3,1) -> (3,3) and (3,3) streach the 1 dimension to 3\n",
    "\n",
    "a+b "
   ]
  },
  {
   "cell_type": "code",
   "execution_count": 102,
   "metadata": {},
   "outputs": [
    {
     "data": {
      "text/plain": [
       "array([[0, 1, 2],\n",
       "       [1, 2, 3],\n",
       "       [2, 3, 4],\n",
       "       [3, 4, 5]])"
      ]
     },
     "execution_count": 102,
     "metadata": {},
     "output_type": "execute_result"
    }
   ],
   "source": [
    "a = np.arange(3).reshape(1, 3)\n",
    "b = np.arange(4).reshape(4, 1)\n",
    "# (1,3) and (4,1) -> (4,3) and (4,3) streach the 1 dimension to 4\n",
    "\n",
    "a+b"
   ]
  },
  {
   "cell_type": "code",
   "execution_count": 103,
   "metadata": {},
   "outputs": [
    {
     "data": {
      "text/plain": [
       "array([[1, 2],\n",
       "       [3, 4]])"
      ]
     },
     "execution_count": 103,
     "metadata": {},
     "output_type": "execute_result"
    }
   ],
   "source": [
    "a =np.array([1])\n",
    "b = np.arange(4).reshape(2,2)\n",
    "# (1,) and (2,2) -> (1,1) and (2,2) streach the 1 dimension to 2\n",
    "\n",
    "a+b\n"
   ]
  },
  {
   "cell_type": "code",
   "execution_count": 104,
   "metadata": {},
   "outputs": [],
   "source": [
    "a = np.arange(12).reshape(3, 4)\n",
    "b = np.arange(12).reshape(4, 3)\n",
    "# (3,4) and (4,3) -> (3,4) and (3,3) streach the 1 dimension to 4  but it is not possible so it will give error because the two array have different number of columns and 1 is not present in the other array\n",
    "# a+b # ValueError: operands could not be broadcast together with shapes (3,4) (4,3)"
   ]
  },
  {
   "cell_type": "code",
   "execution_count": 105,
   "metadata": {},
   "outputs": [],
   "source": [
    "a = np.arange(16).reshape(4, 4)\n",
    "b = np.arange(4).reshape(2, 2)\n",
    "# (4,4) and (2,2) -> (4,4) and (4,4) streach the 1 dimension to 4 but it is not possible so it will give error because the two array have different number of columns and 1 is not present in the other array\n",
    "# a+b # ValueError: operands could not be broadcast together with shapes (4,4) (2,2)\n"
   ]
  },
  {
   "cell_type": "markdown",
   "metadata": {},
   "source": [
    "Mathimatical Function"
   ]
  },
  {
   "cell_type": "code",
   "execution_count": 106,
   "metadata": {},
   "outputs": [
    {
     "data": {
      "text/plain": [
       "array([0.5       , 0.73105858, 0.88079708, 0.95257413, 0.98201379,\n",
       "       0.99330715, 0.99752738, 0.99908895, 0.99966465, 0.99987661])"
      ]
     },
     "execution_count": 106,
     "metadata": {},
     "output_type": "execute_result"
    }
   ],
   "source": [
    "# sigmoid function:  used in logistic regression and deep learning\n",
    "#sigmoid formula = 1/(1+e^-x)\n",
    "def sigmoid(array):\n",
    "    return 1/(1+np.exp(-array))\n",
    "\n",
    "a= np.arange(10)\n",
    "sigmoid(a)"
   ]
  },
  {
   "cell_type": "code",
   "execution_count": 107,
   "metadata": {},
   "outputs": [
    {
     "data": {
      "text/plain": [
       "np.float64(289.16)"
      ]
     },
     "execution_count": 107,
     "metadata": {},
     "output_type": "execute_result"
    }
   ],
   "source": [
    "# Mean squared error\n",
    "# Mean Squared Error (MSE) is the average of the squared differences between the predicted and actual values. It is a loss function used in regression problems.\n",
    "# MSE = 1/n * Σ(yi - ŷi)^2\n",
    "actual = np.random.randint(1, 50, 25)\n",
    "predicted = np.random.randint(1, 50, 25)\n",
    "def mse(actual, predicted):\n",
    "    return np.mean((actual - predicted)**2)  # mean is avg\n",
    "mse(actual, predicted)"
   ]
  },
  {
   "cell_type": "code",
   "execution_count": 108,
   "metadata": {},
   "outputs": [
    {
     "data": {
      "text/plain": [
       "np.float64(1.6377468650628293)"
      ]
     },
     "execution_count": 108,
     "metadata": {},
     "output_type": "execute_result"
    }
   ],
   "source": [
    "#Binary Cross Entropy\n",
    "# Binary Cross Entropy is a loss function used in binary classification problems. It is the negative log-likelihood of the true labels given the predicted labels.\n",
    "# BCE = -1/n * Σ(yi * log(ŷi) + (1-yi) * log(1-ŷi))\n",
    "actual = np.random.randint(0, 2, 25)\n",
    "predicted = np.random.random(25)\n",
    "def bce(actual, predicted):\n",
    "    return -np.mean(actual * np.log(predicted) + (1 - actual) * np.log(1 - predicted))\n",
    "bce(actual, predicted)"
   ]
  },
  {
   "cell_type": "markdown",
   "metadata": {},
   "source": [
    "Working wuth missing values"
   ]
  },
  {
   "cell_type": "code",
   "execution_count": 109,
   "metadata": {},
   "outputs": [
    {
     "data": {
      "text/plain": [
       "array([1., 2., 3., 4., 5., 7., 8., 9.])"
      ]
     },
     "execution_count": 109,
     "metadata": {},
     "output_type": "execute_result"
    }
   ],
   "source": [
    "miss_a = np.array([1,2,3,4,5,np.nan,7,8,9])\n",
    "np.isnan(miss_a) # check for missing values\n",
    "miss_a[~np.isnan(miss_a)] # remove missing values"
   ]
  },
  {
   "cell_type": "markdown",
   "metadata": {},
   "source": [
    "Ploting graph"
   ]
  },
  {
   "cell_type": "code",
   "execution_count": 110,
   "metadata": {},
   "outputs": [
    {
     "name": "stdout",
     "output_type": "stream",
     "text": [
      "Requirement already satisfied: matplotlib in c:\\users\\tayya\\appdata\\local\\programs\\python\\python313\\lib\\site-packages (3.10.0)Note: you may need to restart the kernel to use updated packages.\n",
      "\n",
      "Requirement already satisfied: contourpy>=1.0.1 in c:\\users\\tayya\\appdata\\local\\programs\\python\\python313\\lib\\site-packages (from matplotlib) (1.3.1)\n",
      "Requirement already satisfied: cycler>=0.10 in c:\\users\\tayya\\appdata\\local\\programs\\python\\python313\\lib\\site-packages (from matplotlib) (0.12.1)\n",
      "Requirement already satisfied: fonttools>=4.22.0 in c:\\users\\tayya\\appdata\\local\\programs\\python\\python313\\lib\\site-packages (from matplotlib) (4.56.0)\n",
      "Requirement already satisfied: kiwisolver>=1.3.1 in c:\\users\\tayya\\appdata\\local\\programs\\python\\python313\\lib\\site-packages (from matplotlib) (1.4.8)\n",
      "Requirement already satisfied: numpy>=1.23 in c:\\users\\tayya\\appdata\\local\\programs\\python\\python313\\lib\\site-packages (from matplotlib) (2.2.2)\n",
      "Requirement already satisfied: packaging>=20.0 in c:\\users\\tayya\\appdata\\roaming\\python\\python313\\site-packages (from matplotlib) (24.2)\n",
      "Requirement already satisfied: pillow>=8 in c:\\users\\tayya\\appdata\\local\\programs\\python\\python313\\lib\\site-packages (from matplotlib) (11.1.0)\n",
      "Requirement already satisfied: pyparsing>=2.3.1 in c:\\users\\tayya\\appdata\\local\\programs\\python\\python313\\lib\\site-packages (from matplotlib) (3.2.1)\n",
      "Requirement already satisfied: python-dateutil>=2.7 in c:\\users\\tayya\\appdata\\roaming\\python\\python313\\site-packages (from matplotlib) (2.9.0.post0)\n",
      "Requirement already satisfied: six>=1.5 in c:\\users\\tayya\\appdata\\roaming\\python\\python313\\site-packages (from python-dateutil>=2.7->matplotlib) (1.17.0)\n"
     ]
    },
    {
     "name": "stderr",
     "output_type": "stream",
     "text": [
      "\n",
      "[notice] A new release of pip is available: 24.3.1 -> 25.0.1\n",
      "[notice] To update, run: python.exe -m pip install --upgrade pip\n"
     ]
    }
   ],
   "source": [
    "%pip install matplotlib"
   ]
  },
  {
   "cell_type": "code",
   "execution_count": 111,
   "metadata": {},
   "outputs": [
    {
     "data": {
      "text/plain": [
       "[<matplotlib.lines.Line2D at 0x1dc1a9add10>]"
      ]
     },
     "execution_count": 111,
     "metadata": {},
     "output_type": "execute_result"
    },
    {
     "data": {
      "image/png": "[encoded data removed]",
      "text/plain": [
       "<Figure size 640x480 with 1 Axes>"
      ]
     },
     "metadata": {},
     "output_type": "display_data"
    }
   ],
   "source": [
    "# x=y\n",
    "x = np.linspace(-10, 10, 100)\n",
    "y = x\n",
    "import matplotlib.pyplot as plt\n",
    "plt.plot(x, y)"
   ]
  },
  {
   "cell_type": "code",
   "execution_count": 112,
   "metadata": {},
   "outputs": [
    {
     "data": {
      "text/plain": [
       "[<matplotlib.lines.Line2D at 0x1dc1dc58910>]"
      ]
     },
     "execution_count": 112,
     "metadata": {},
     "output_type": "execute_result"
    },
    {
     "data": {
      "image/png": "[encoded data removed]",
      "text/plain": [
       "<Figure size 640x480 with 1 Axes>"
      ]
     },
     "metadata": {},
     "output_type": "display_data"
    }
   ],
   "source": [
    "# y= x**2 parabola\n",
    "y = x**2\n",
    "plt.plot(x, y)\n",
    "\n"
   ]
  },
  {
   "cell_type": "code",
   "execution_count": 113,
   "metadata": {},
   "outputs": [
    {
     "data": {
      "text/plain": [
       "[<matplotlib.lines.Line2D at 0x1dc1dce07d0>]"
      ]
     },
     "execution_count": 113,
     "metadata": {},
     "output_type": "execute_result"
    },
    {
     "data": {
      "image/png": "[encoded data removed]",
      "text/plain": [
       "<Figure size 640x480 with 1 Axes>"
      ]
     },
     "metadata": {},
     "output_type": "display_data"
    }
   ],
   "source": [
    "# y = sin(x)\n",
    "y = np.sin(x)\n",
    "plt.plot(x, y)"
   ]
  },
  {
   "cell_type": "code",
   "execution_count": 114,
   "metadata": {},
   "outputs": [
    {
     "name": "stderr",
     "output_type": "stream",
     "text": [
      "C:\\Users\\tayya\\AppData\\Local\\Temp\\ipykernel_10980\\299501355.py:2: RuntimeWarning: invalid value encountered in log\n",
      "  y = x * np.log(x)\n"
     ]
    },
    {
     "data": {
      "text/plain": [
       "[<matplotlib.lines.Line2D at 0x1dc1dd69310>]"
      ]
     },
     "execution_count": 114,
     "metadata": {},
     "output_type": "execute_result"
    },
    {
     "data": {
      "image/png": "[encoded data removed]",
      "text/plain": [
       "<Figure size 640x480 with 1 Axes>"
      ]
     },
     "metadata": {},
     "output_type": "display_data"
    }
   ],
   "source": [
    "# y= xlog(x)\n",
    "y = x * np.log(x)\n",
    "plt.plot(x, y)"
   ]
  },
  {
   "cell_type": "code",
   "execution_count": 115,
   "metadata": {},
   "outputs": [
    {
     "data": {
      "text/plain": [
       "[<matplotlib.lines.Line2D at 0x1dc1ddce990>]"
      ]
     },
     "execution_count": 115,
     "metadata": {},
     "output_type": "execute_result"
    },
    {
     "data": {
      "image/png": "[encoded data removed]",
      "text/plain": [
       "<Figure size 640x480 with 1 Axes>"
      ]
     },
     "metadata": {},
     "output_type": "display_data"
    }
   ],
   "source": [
    "# sigmoid graph\n",
    "x = np.linspace(-10, 10, 100)\n",
    "y = sigmoid(x)\n",
    "plt.plot(x, y)"
   ]
  },
  {
   "cell_type": "code",
   "execution_count": 116,
   "metadata": {},
   "outputs": [
    {
     "data": {
      "text/plain": [
       "<matplotlib.collections.PathCollection at 0x1dc1ba31550>"
      ]
     },
     "execution_count": 116,
     "metadata": {},
     "output_type": "execute_result"
    },
    {
     "data": {
      "image/png": "[encoded data removed]",
      "text/plain": [
       "<Figure size 640x480 with 1 Axes>"
      ]
     },
     "metadata": {},
     "output_type": "display_data"
    }
   ],
   "source": [
    "# ploting a scatter plot\n",
    "x = np.random.randint(1, 100, 100)\n",
    "y = np.random.randint(1, 100, 100)\n",
    "plt.scatter(x, y)"
   ]
  },
  {
   "cell_type": "markdown",
   "metadata": {},
   "source": [
    "Numpy Tricks "
   ]
  },
  {
   "cell_type": "code",
   "execution_count": 117,
   "metadata": {},
   "outputs": [
    {
     "data": {
      "text/plain": [
       "array([85, 80, 78, 72, 72, 53, 52, 50, 42, 33, 33, 29, 12, 10,  9],\n",
       "      dtype=int32)"
      ]
     },
     "execution_count": 117,
     "metadata": {},
     "output_type": "execute_result"
    }
   ],
   "source": [
    "#np.sort\n",
    "a = np.random.randint(1, 100, 15)\n",
    "np.sort(a) # sort the array in ascending order\n",
    "# attributes : kind, order, axis \n",
    "# kind : quicksort, mergesort, heapsort, stable\n",
    "# order : sort the array based on the given column\n",
    "# axis : sort the array based on the given axis\n",
    "# in descending order\n",
    "np.sort(a)[::-1]"
   ]
  },
  {
   "cell_type": "code",
   "execution_count": 118,
   "metadata": {},
   "outputs": [
    {
     "data": {
      "text/plain": [
       "array([[27, 51, 98, 69],\n",
       "       [19, 40, 63, 56],\n",
       "       [ 5, 13, 36, 53]], dtype=int32)"
      ]
     },
     "execution_count": 118,
     "metadata": {},
     "output_type": "execute_result"
    }
   ],
   "source": [
    "b= np.random.randint(1, 100, 12).reshape(3, 4)\n",
    "np.sort(b, axis = 0) # sort the array along the column\n",
    "np.sort(b, axis = 1) # sort the array along the row\n",
    "#descending order\n",
    "np.sort(b, axis = 0)[::-1]"
   ]
  },
  {
   "cell_type": "code",
   "execution_count": 119,
   "metadata": {},
   "outputs": [
    {
     "data": {
      "text/plain": [
       "array([[27., 51., 98., 69.,  1.],\n",
       "       [19., 40., 63., 53.,  1.],\n",
       "       [ 5., 13., 36., 56.,  1.]])"
      ]
     },
     "execution_count": 119,
     "metadata": {},
     "output_type": "execute_result"
    }
   ],
   "source": [
    "#np.append\n",
    "a = np.array([1, 2, 3])\n",
    "np.append(a, 4) # append 4 to the array\n",
    "\n",
    "b\n",
    "np.append(b,np.ones((3,1)),axis=1) # append a column of ones to the array"
   ]
  },
  {
   "cell_type": "code",
   "execution_count": 120,
   "metadata": {},
   "outputs": [
    {
     "data": {
      "text/plain": [
       "array([[ 0,  1,  2,  6,  7,  8],\n",
       "       [ 3,  4,  5,  9, 10, 11]])"
      ]
     },
     "execution_count": 120,
     "metadata": {},
     "output_type": "execute_result"
    }
   ],
   "source": [
    "# np.concatenate\n",
    "a = np.arange(6).reshape(2, 3)\n",
    "b = np.arange(6,12).reshape(2, 3)\n",
    "\n",
    "np.concatenate((a, b), axis = 0) # concatenate the two arrays along the row\n",
    "np.concatenate((a, b), axis = 1) # concatenate the two arrays along\n"
   ]
  },
  {
   "cell_type": "code",
   "execution_count": 121,
   "metadata": {},
   "outputs": [
    {
     "data": {
      "text/plain": [
       "array([1, 2, 3, 4, 5])"
      ]
     },
     "execution_count": 121,
     "metadata": {},
     "output_type": "execute_result"
    }
   ],
   "source": [
    "#np.unique\n",
    "#def : return the unique elements in the array\n",
    "a = np.array([1, 2, 2, 3, 3, 4, 5, 5])\n",
    "np.unique(a) # return the unique elements in the array"
   ]
  },
  {
   "cell_type": "code",
   "execution_count": 122,
   "metadata": {},
   "outputs": [
    {
     "data": {
      "text/plain": [
       "array([[1, 2, 3]])"
      ]
     },
     "execution_count": 122,
     "metadata": {},
     "output_type": "execute_result"
    }
   ],
   "source": [
    "# np.expand_dims\n",
    "# def : expand the shape of an array\n",
    "a = np.array([1, 2, 3])\n",
    "np.expand_dims(a, axis = 0) # expand the shape of the array along the row"
   ]
  },
  {
   "cell_type": "code",
   "execution_count": 123,
   "metadata": {},
   "outputs": [
    {
     "data": {
      "text/plain": [
       "array([1, 2, 0, 0, 0])"
      ]
     },
     "execution_count": 123,
     "metadata": {},
     "output_type": "execute_result"
    }
   ],
   "source": [
    "# np.where\n",
    "# def : return the indices of elements that satisfy the given condition\n",
    "a = np.array([1, 2, 10, 4, 5])\n",
    "np.where(a > 2) # return the indices of elements greater than 2\n",
    "# replace all the elements greater than 2 with 0\n",
    "# np.where(cond,tru ,fal)\n",
    "np.where(a > 2, 0, a) # here 0 is the value that will replace the elements greater than 2"
   ]
  },
  {
   "cell_type": "code",
   "execution_count": 124,
   "metadata": {},
   "outputs": [
    {
     "data": {
      "text/plain": [
       "array([0, 0])"
      ]
     },
     "execution_count": 124,
     "metadata": {},
     "output_type": "execute_result"
    }
   ],
   "source": [
    "# np.argmax and np.argmin\n",
    "# def : return the indices of the maximum value along an axis\n",
    "a = np.array([1, 2, 10, 4, 5])\n",
    "np.argmax(a) # return the index of the maximum value\n",
    "np.argmin(a) # return the index of the minimum value\n",
    "\n",
    "# for 2 d array\n",
    "np.argmax(b, axis = 0) # return the index of the maximum value along the column\n",
    "np.argmin(b, axis = 1) # return the index of the minimum value along the row"
   ]
  },
  {
   "cell_type": "code",
   "execution_count": 125,
   "metadata": {},
   "outputs": [
    {
     "data": {
      "text/plain": [
       "array([[ 6,  7,  8],\n",
       "       [15, 17, 19]])"
      ]
     },
     "execution_count": 125,
     "metadata": {},
     "output_type": "execute_result"
    }
   ],
   "source": [
    "# np.cumsum\n",
    "# def : return the cumulative sum of the elements along a given axis\n",
    "a = np.array([1, 2, 3, 4, 5])\n",
    "np.cumsum(a) # return the cumulative sum of the elements in the array\n",
    "# for 2D array\n",
    "np.cumsum(b) # return the cumulative sum of the elements in the array in a 1D array\n",
    "np.cumsum(b, axis = 0) # return the cumulative sum of the elements along the column"
   ]
  },
  {
   "cell_type": "code",
   "execution_count": 126,
   "metadata": {},
   "outputs": [
    {
     "data": {
      "text/plain": [
       "array([  1,   2,   6,  24, 120])"
      ]
     },
     "execution_count": 126,
     "metadata": {},
     "output_type": "execute_result"
    }
   ],
   "source": [
    "# np.cumprod\n",
    "# def : return the cumulative product of the elements along a given axis\n",
    "np.cumprod(a) # return the cumulative product of the elements in the array"
   ]
  },
  {
   "cell_type": "code",
   "execution_count": 127,
   "metadata": {},
   "outputs": [
    {
     "data": {
      "text/plain": [
       "np.float64(4.6)"
      ]
     },
     "execution_count": 127,
     "metadata": {},
     "output_type": "execute_result"
    }
   ],
   "source": [
    "# np.percentile\n",
    "# def : return the q-th percentile of the array\n",
    "# percentile formula = (n/N) * 100\n",
    "a = np.array([1, 2, 3, 4, 5])\n",
    "np.percentile(a, 90) # return the 90th percentile of the array"
   ]
  },
  {
   "cell_type": "code",
   "execution_count": 128,
   "metadata": {},
   "outputs": [
    {
     "data": {
      "text/plain": [
       "(array([1, 0, 1, 0, 2, 1, 2, 1, 0]),\n",
       " array([ 10,  20,  30,  40,  50,  60,  70,  80,  90, 100]))"
      ]
     },
     "execution_count": 128,
     "metadata": {},
     "output_type": "execute_result"
    }
   ],
   "source": [
    "# np.histogram\n",
    "# def : compute the histogram of a set of data\n",
    "a = np.random.randint(1, 100, 10)\n",
    "np.histogram(a,bins=[10,20,30,40,50,60,70,80,90,100]) # return the frequency of the elements in the"
   ]
  },
  {
   "cell_type": "code",
   "execution_count": 129,
   "metadata": {},
   "outputs": [
    {
     "data": {
      "text/plain": [
       "array([[1.        , 0.27960477],\n",
       "       [0.27960477, 1.        ]])"
      ]
     },
     "execution_count": 129,
     "metadata": {},
     "output_type": "execute_result"
    }
   ],
   "source": [
    "# np.corrcoef\n",
    "# def : return the correlation coefficient of the array\n",
    "salary = np.random.randint(1000, 10000000, 10)\n",
    "experiance = np.random.randint(1, 100, 10)\n",
    "np.corrcoef(salary, experiance) # return the correlation coefficient of the two arrays"
   ]
  },
  {
   "cell_type": "code",
   "execution_count": 130,
   "metadata": {},
   "outputs": [
    {
     "data": {
      "text/plain": [
       "array([ True, False, False, False,  True])"
      ]
     },
     "execution_count": 130,
     "metadata": {},
     "output_type": "execute_result"
    }
   ],
   "source": [
    "# np.isin\n",
    "# def : return a boolean array by checking if the elements of an array are present in another array\n",
    "a = np.array([1, 2, 3, 4, 5])\n",
    "searched = np.array([1, 5, 6])\n",
    "np.isin(a, searched) # return a boolean array by checking if the elements of a are present in b"
   ]
  },
  {
   "cell_type": "code",
   "execution_count": 131,
   "metadata": {},
   "outputs": [
    {
     "data": {
      "text/plain": [
       "array([5, 4, 3, 2, 1])"
      ]
     },
     "execution_count": 131,
     "metadata": {},
     "output_type": "execute_result"
    }
   ],
   "source": [
    "# np.flip\n",
    "# def : reverse the order of the elements in an array\n",
    "a = np.array([1, 2, 3, 4, 5])\n",
    "np.flip(a) # reverse the order of the elements in the array"
   ]
  },
  {
   "cell_type": "code",
   "execution_count": 132,
   "metadata": {},
   "outputs": [
    {
     "data": {
      "text/plain": [
       "array([6, 7, 3, 4, 5])"
      ]
     },
     "execution_count": 132,
     "metadata": {},
     "output_type": "execute_result"
    }
   ],
   "source": [
    "# # np.put\n",
    "# # def : replace the specified elements in an array\n",
    "a = np.array([1, 2, 3, 4, 5])\n",
    "np.put(a, [0, 1], [6, 7]) # replace the elements at index 0 and 1 with 6 and 7\n",
    "# sytax : np.put(array, indices, values)\n",
    "a"
   ]
  },
  {
   "cell_type": "code",
   "execution_count": 133,
   "metadata": {},
   "outputs": [
    {
     "data": {
      "text/plain": [
       "array([3, 4, 5])"
      ]
     },
     "execution_count": 133,
     "metadata": {},
     "output_type": "execute_result"
    }
   ],
   "source": [
    "# np.delete\n",
    "# def : delete the specified elements from an array\n",
    "a = np.array([1, 2, 3, 4, 5])  \n",
    "np.delete(a, [0, 1]) # delete the elements at index 0 and 1\n",
    "# syntax : np.delete(array, "
   ]
  },
  {
   "cell_type": "code",
   "execution_count": 134,
   "metadata": {},
   "outputs": [
    {
     "name": "stderr",
     "output_type": "stream",
     "text": [
      "C:\\Users\\tayya\\AppData\\Local\\Temp\\ipykernel_10980\\2985705589.py:15: DeprecationWarning: `in1d` is deprecated. Use `np.isin` instead.\n",
      "  np.in1d(a, 1) # return a boolean array by checking if the elements of a are present in b\n"
     ]
    },
    {
     "data": {
      "text/plain": [
       "array([ True, False, False, False, False, False, False, False])"
      ]
     },
     "execution_count": 134,
     "metadata": {},
     "output_type": "execute_result"
    }
   ],
   "source": [
    "# set function\n",
    "# def : return the unique elements in the array\n",
    "a = np.array([1, 2, 2, 3, 3, 4, 5, 5])\n",
    "b = np.array([5, 6, 7, 8, 9])\n",
    "\n",
    "# np.intersect1d\n",
    "np.intersect1d(a, b) # return the common elements in the two arrays\n",
    "# np.union1d\n",
    "np.union1d(a, b) # return the unique elements in the two arrays\n",
    "# np.setdiff1d\n",
    "np.setdiff1d(a, b) # return the elements in a that are not in b\n",
    "# np.setxor1d\n",
    "np.setxor1d(a, b) # return the elements that are in either of the arrays but not in both\n",
    "# np.in1d\n",
    "np.in1d(a, 1) # return a boolean array by checking if the elements of a are present in b"
   ]
  },
  {
   "cell_type": "code",
   "execution_count": 135,
   "metadata": {},
   "outputs": [
    {
     "data": {
      "text/plain": [
       "array([2, 2, 3, 4, 4])"
      ]
     },
     "execution_count": 135,
     "metadata": {},
     "output_type": "execute_result"
    }
   ],
   "source": [
    "# np.clip\n",
    "# def : clip the values in an array\n",
    "a = np.array([1, 2, 3, 4, 5])\n",
    "np.clip(a, 2, 4) # clip the values in the array between 2 and 4"
   ]
  },
  {
   "cell_type": "code",
   "execution_count": null,
   "metadata": {},
   "outputs": [],
   "source": []
  }
 ],
 "metadata": {
  "kernelspec": {
   "display_name": "Python 3",
   "language": "python",
   "name": "python3"
  },
  "language_info": {
   "codemirror_mode": {
    "name": "ipython",
    "version": 3
   },
   "file_extension": ".py",
   "mimetype": "text/x-python",
   "name": "python",
   "nbconvert_exporter": "python",
   "pygments_lexer": "ipython3",
   "version": "3.13.1"
  }
 },
 "nbformat": 4,
 "nbformat_minor": 2
}
