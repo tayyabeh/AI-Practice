{
 "cells": [
  {
   "cell_type": "code",
   "execution_count": 4,
   "id": "53d60b1d",
   "metadata": {},
   "outputs": [],
   "source": [
    "from langgraph.graph import StateGraph, START , END\n",
    "from typing import TypedDict\n",
    "from langchain_google_genai import ChatGoogleGenerativeAI\n",
    "from getpass import getpass"
   ]
  },
  {
   "cell_type": "code",
   "execution_count": 5,
   "id": "d070f514",
   "metadata": {},
   "outputs": [],
   "source": [
    "api_key = ''"
   ]
  },
  {
   "cell_type": "code",
   "execution_count": null,
   "id": "dc20fbad",
   "metadata": {},
   "outputs": [],
   "source": [
    "model = ChatGoogleGenerativeAI(\n",
    "    model=\"gemini-2.5-pro\",\n",
    "    temperature=0,\n",
    "    max_tokens=None,\n",
    "    timeout=None,\n",
    "    max_retries=2,\n",
    "    api_key = api_key\n",
    ")"
   ]
  },
  {
   "cell_type": "code",
   "execution_count": null,
   "id": "d3ceb053",
   "metadata": {},
   "outputs": [],
   "source": [
    "class BatsmanState(TypedDict):\n",
    "    runs : int\n",
    "    balls : int\n",
    "    fours: int\n",
    "    sixes : int\n",
    "    sr : float\n",
    "    bpb : float\n",
    "    boundary_percent : float \n",
    "    summary : str\n"
   ]
  },
  {
   "cell_type": "code",
   "execution_count": 20,
   "id": "bcdfe6a3",
   "metadata": {},
   "outputs": [],
   "source": [
    "# functiosn \n",
    "def cal_sr(state: BatsmanState) -> BatsmanState:\n",
    "    sr = (state['runs'] / state['balls'])/100\n",
    "    return { 'sr' : sr}\n",
    "\n",
    "def calc_ball_bound(state: BatsmanState) -> BatsmanState:\n",
    "    bpb = state['balls']/(state['fours']+state['sixes'])\n",
    "    return { 'bpb' : bpb}\n",
    "\n",
    "\n",
    "def calc_bound_percent(state: BatsmanState) -> BatsmanState:\n",
    "    bound_percent = (state['fours']* 4  + state['sixes']*6 )/ state['runs']\n",
    "    return { 'boundary_percent' : bound_percent}\n",
    "\n",
    "\n",
    "def summary(state: BatsmanState) -> BatsmanState:\n",
    "    summary = f\"\"\"\n",
    "    strikes Rate : {state['sr']},\n",
    "    ball per boundary : {state['bpb']},\n",
    "    boundary percent : {state['boundary_percent']}\n",
    "    \"\"\"\n",
    "    return { 'summary' : summary}"
   ]
  },
  {
   "cell_type": "code",
   "execution_count": 21,
   "id": "5d8b2e56",
   "metadata": {},
   "outputs": [
    {
     "data": {
      "text/plain": [
       "<langgraph.graph.state.StateGraph at 0x2d0f54f48c0>"
      ]
     },
     "execution_count": 21,
     "metadata": {},
     "output_type": "execute_result"
    }
   ],
   "source": [
    "graph = StateGraph(BatsmanState)\n",
    "\n",
    "graph.add_node(\"cal_sr\",cal_sr)\n",
    "graph.add_node(\"calc_ball_bound\",calc_ball_bound)\n",
    "graph.add_node(\"calc_bound_percent\",calc_bound_percent)\n",
    "graph.add_node(\"summary\",summary)"
   ]
  },
  {
   "cell_type": "code",
   "execution_count": 22,
   "id": "300f7bf6",
   "metadata": {},
   "outputs": [
    {
     "data": {
      "text/plain": [
       "<langgraph.graph.state.StateGraph at 0x2d0f54f48c0>"
      ]
     },
     "execution_count": 22,
     "metadata": {},
     "output_type": "execute_result"
    }
   ],
   "source": [
    "graph.add_edge(START , 'cal_sr')\n",
    "graph.add_edge(START , 'calc_ball_bound')\n",
    "graph.add_edge(START , 'calc_bound_percent')\n",
    "graph.add_edge('cal_sr' , 'summary')\n",
    "graph.add_edge('calc_ball_bound' , 'summary')\n",
    "graph.add_edge('calc_bound_percent' , 'summary')\n",
    "graph.add_edge('summary', END)"
   ]
  },
  {
   "cell_type": "code",
   "execution_count": 23,
   "id": "6bab796e",
   "metadata": {},
   "outputs": [],
   "source": [
    "wf = graph.compile()"
   ]
  },
  {
   "cell_type": "code",
   "execution_count": 24,
   "id": "fa8566e6",
   "metadata": {},
   "outputs": [],
   "source": [
    "initial_state = {\n",
    "    'runs' : 100 ,\n",
    "    'balls' : 100,\n",
    "    'fours' : 6 ,\n",
    "    'sixes' : 6\n",
    "}\n",
    "\n",
    "final_state = wf.invoke(initial_state)"
   ]
  },
  {
   "cell_type": "code",
   "execution_count": 25,
   "id": "8d62cb5e",
   "metadata": {},
   "outputs": [
    {
     "data": {
      "text/plain": [
       "{'runs': 100,\n",
       " 'balls': 100,\n",
       " 'fours': 6,\n",
       " 'sixes': 6,\n",
       " 'sr': 0.01,\n",
       " 'bpb': 8.333333333333334,\n",
       " 'boundary_percent': 0.6}"
      ]
     },
     "execution_count": 25,
     "metadata": {},
     "output_type": "execute_result"
    }
   ],
   "source": [
    "final_state"
   ]
  },
  {
   "cell_type": "markdown",
   "id": "14ade7c3",
   "metadata": {},
   "source": [
    "EXAM TEST ESSAY EVALUATOR WORKFLOWS"
   ]
  },
  {
   "cell_type": "code",
   "execution_count": 1,
   "id": "9aee8f22",
   "metadata": {},
   "outputs": [],
   "source": [
    "from langgraph.graph import StateGraph, START , END\n",
    "from typing import TypedDict , Annotated \n",
    "from langchain_google_genai import ChatGoogleGenerativeAI\n",
    "from getpass import getpass\n",
    "from pydantic import BaseModel ,Field\n",
    "import operator\n"
   ]
  },
  {
   "cell_type": "code",
   "execution_count": 2,
   "id": "6c90494c",
   "metadata": {},
   "outputs": [],
   "source": [
    "class EvalueSchema(BaseModel):\n",
    "    feedback : str = Field(description = \"Detailed feedback for the eassay text\")\n",
    "    score : int = Field(description = \"score it out of  10 \" , ge = 0 ,le = 10)"
   ]
  },
  {
   "cell_type": "code",
   "execution_count": 10,
   "id": "6830ebf7",
   "metadata": {},
   "outputs": [],
   "source": [
    "structured_model = model.with_structured_output(EvalueSchema)"
   ]
  },
  {
   "cell_type": "code",
   "execution_count": 8,
   "id": "b3fd5408",
   "metadata": {},
   "outputs": [],
   "source": [
    "essay = '''\n",
    "Artificial Intelligence (AI) is rapidly transforming the world, influencing industries, economies, and societies. In Pakistan, AI is gradually gaining attention as both the public and private sectors recognize its potential to boost productivity, improve decision-making, and address national challenges. Although Pakistan is still in the early stages of adopting AI, the progress made in recent years shows promising potential for future growth.\n",
    "\n",
    "Current Landscape of AI in Pakistan\n",
    "\n",
    "Over the last decade, Pakistan has seen a gradual rise in AI-related initiatives. The National Center of Artificial Intelligence (NCAI), established under the Higher Education Commission (HEC), plays a key role in promoting AI research and development in various domains such as computer vision, natural language processing, and robotics. Several universities, including NUST, FAST, and Punjab University, have introduced AI degree programs to prepare skilled professionals.\n",
    "\n",
    "In the private sector, tech startups and software houses are developing AI-powered solutions for healthcare, agriculture, education, and e-commerce. For example, AI-based medical diagnosis systems are being developed to assist doctors in remote areas, while agriculture-focused AI tools help farmers monitor crop health using satellite and drone imagery.\n",
    "\n",
    "Opportunities for Pakistan\n",
    "\n",
    "AI offers Pakistan significant opportunities for economic growth and social development:\n",
    "\n",
    "Healthcare: AI can assist in disease diagnosis, patient monitoring, and drug discovery, reducing the burden on the country’s limited healthcare resources.\n",
    "\n",
    "Agriculture: AI-driven precision farming can help improve crop yields and resource management, addressing food security issues.\n",
    "\n",
    "Education: Intelligent tutoring systems and personalized learning platforms can bridge the education gap in rural areas.\n",
    "\n",
    "Public Services: AI can enhance governance by improving data-driven decision-making, reducing corruption, and automating routine tasks.\n",
    "\n",
    "Industry and Business: Automation, predictive analytics, and machine learning can improve manufacturing efficiency and create new market opportunities.\n",
    "\n",
    "Challenges in AI Adoption\n",
    "\n",
    "Despite the opportunities, Pakistan faces several challenges in AI adoption:\n",
    "\n",
    "Lack of Skilled Workforce: There is a shortage of AI experts and data scientists in the country.\n",
    "\n",
    "Limited Research Funding: Investment in AI R&D remains low compared to global standards.\n",
    "\n",
    "Data Availability and Quality: Access to large, high-quality datasets is still limited.\n",
    "\n",
    "Infrastructure Gaps: High-performance computing resources and reliable internet are lacking in many regions.\n",
    "\n",
    "Ethical and Regulatory Issues: There are no comprehensive AI regulations in Pakistan to address concerns like bias, privacy, and misuse.\n",
    "\n",
    "Government and Policy Initiatives\n",
    "\n",
    "The Digital Pakistan initiative aims to integrate technology into governance, education, and industry. In 2020, the government announced the National AI Policy Draft to guide AI development and regulate its applications. The policy emphasizes skill development, research funding, and public-private collaboration to make Pakistan a competitive player in the AI industry.\n",
    "\n",
    "Future Outlook\n",
    "\n",
    "If Pakistan invests strategically in AI education, infrastructure, and policy-making, the country can become a regional AI hub. Collaboration between academia, industry, and government will be crucial. Additionally, international partnerships can help Pakistan acquire the technical expertise and resources needed to accelerate AI adoption.\n",
    "\n",
    "Conclusion\n",
    "\n",
    "AI has the potential to revolutionize Pakistan’s economy and improve the quality of life for its citizens. While challenges remain, the progress so far indicates a promising future. By focusing on education, research, infrastructure, and ethical governance, Pakistan can harness the power of AI to compete on a global scale and ensure sustainable development.\n",
    "\n",
    "\n",
    "'''"
   ]
  },
  {
   "cell_type": "code",
   "execution_count": 15,
   "id": "d64cf734",
   "metadata": {},
   "outputs": [],
   "source": [
    "prompt = f\"provide the feedback qquality of essay and assign a score out of 10 {essay}\"\n",
    "o = structured_model.invoke(prompt)"
   ]
  },
  {
   "cell_type": "code",
   "execution_count": 18,
   "id": "1f9c10fb",
   "metadata": {},
   "outputs": [
    {
     "data": {
      "text/plain": [
       "[9]"
      ]
     },
     "execution_count": 18,
     "metadata": {},
     "output_type": "execute_result"
    }
   ],
   "source": [
    "[o.score]"
   ]
  },
  {
   "cell_type": "code",
   "execution_count": 20,
   "id": "465fdbbe",
   "metadata": {},
   "outputs": [],
   "source": [
    "class ExamtestState(TypedDict):\n",
    "\n",
    "    essay : str\n",
    "    language_feedback : str\n",
    "    analysis_feedback : str \n",
    "    clarity_feedback : str\n",
    "    overall_feedback : str\n",
    "    individual_score:  Annotated[list[int], operator.add]\n",
    "    avg  : float\n",
    "\n",
    "    \n",
    "    "
   ]
  },
  {
   "cell_type": "code",
   "execution_count": 21,
   "id": "43665443",
   "metadata": {},
   "outputs": [],
   "source": [
    "def eval_lang(state:ExamtestState):\n",
    "    prompt = f\"provide the feedback qquality of essay and assign a score out of 10 {state['essay']}\"\n",
    "    output = structured_model.invoke(prompt)\n",
    "    return {'language_feedback':output.feedback,'individual_score':[output.score]}\n",
    "\n",
    "def eval_analysis(state:ExamtestState):\n",
    "    prompt = f\"evaluate the depth  of essay provide the feedback qquality of essay and assign a score out of 10 {state['essay']}\"\n",
    "    output = structured_model.invoke(prompt)\n",
    "    return {'analysis_feedback':output.feedback,'individual_score':[output.score]}\n",
    "\n",
    "def eval_clarity(state:ExamtestState):\n",
    "    prompt = f\"evaluate the depth  of essay provide the feedback qquality of essay and assign a score out of 10 {state['essay']}\"\n",
    "    output = structured_model.invoke(prompt)\n",
    "    return {'clarity_feedback':output.feedback,'individual_score':[output.score]}\n",
    "\n",
    "def eval_overall(state:ExamtestState):\n",
    "    prompt = f\"basedo n the foloowing feedbacks provide the final feedbacks {state['language_feedback']} , {state['analysis_feedback']} , {state['clarity_feedback']}\"\n",
    "    output = model.invoke(prompt).content\n",
    "    print(state['individual_score'])\n",
    "    uni = sum(state['individual_score'])\n",
    "    print(uni)\n",
    "    avg = uni/len(state['individual_score'])\n",
    "    return {'overall_feedback':output,'avg':[avg]}\n",
    "\n"
   ]
  },
  {
   "cell_type": "code",
   "execution_count": 58,
   "id": "2f9c5778",
   "metadata": {},
   "outputs": [
    {
     "data": {
      "text/plain": [
       "6"
      ]
     },
     "execution_count": 58,
     "metadata": {},
     "output_type": "execute_result"
    }
   ],
   "source": [
    "sum([1,2,3])"
   ]
  },
  {
   "cell_type": "code",
   "execution_count": 22,
   "id": "4643d28d",
   "metadata": {},
   "outputs": [
    {
     "data": {
      "text/plain": [
       "<langgraph.graph.state.StateGraph at 0x17df7156bd0>"
      ]
     },
     "execution_count": 22,
     "metadata": {},
     "output_type": "execute_result"
    }
   ],
   "source": [
    "graph = StateGraph(ExamtestState)\n",
    "\n",
    "graph.add_node(\"Eval language\" , eval_lang)\n",
    "graph.add_node(\"Eval analysis\" , eval_analysis)\n",
    "graph.add_node(\"Eval clarity\" , eval_clarity)\n",
    "graph.add_node(\"Eval overall\" , eval_overall)\n",
    "\n"
   ]
  },
  {
   "cell_type": "code",
   "execution_count": 23,
   "id": "c2f0fedd",
   "metadata": {},
   "outputs": [
    {
     "data": {
      "text/plain": [
       "<langgraph.graph.state.StateGraph at 0x17df7156bd0>"
      ]
     },
     "execution_count": 23,
     "metadata": {},
     "output_type": "execute_result"
    }
   ],
   "source": [
    "graph.add_edge(START , \"Eval language\")\n",
    "graph.add_edge(START , \"Eval analysis\")\n",
    "graph.add_edge(START , \"Eval clarity\")\n",
    "\n",
    "graph.add_edge(\"Eval language\" , \"Eval overall\")\n",
    "graph.add_edge(\"Eval analysis\" , \"Eval overall\")\n",
    "graph.add_edge(\"Eval clarity\" , \"Eval overall\")\n",
    "\n",
    "graph.add_edge('Eval overall' , END)"
   ]
  },
  {
   "cell_type": "code",
   "execution_count": 24,
   "id": "3fee292f",
   "metadata": {},
   "outputs": [],
   "source": [
    "wf = graph.compile()"
   ]
  },
  {
   "cell_type": "code",
   "execution_count": 25,
   "id": "cfe55aa1",
   "metadata": {},
   "outputs": [
    {
     "name": "stdout",
     "output_type": "stream",
     "text": [
      "[8, 8, 8]\n",
      "24\n"
     ]
    },
    {
     "data": {
      "text/plain": [
       "{'essay': '\\nArtificial Intelligence (AI) is rapidly transforming the world, influencing industries, economies, and societies. In Pakistan, AI is gradually gaining attention as both the public and private sectors recognize its potential to boost productivity, improve decision-making, and address national challenges. Although Pakistan is still in the early stages of adopting AI, the progress made in recent years shows promising potential for future growth.\\n\\nCurrent Landscape of AI in Pakistan\\n\\nOver the last decade, Pakistan has seen a gradual rise in AI-related initiatives. The National Center of Artificial Intelligence (NCAI), established under the Higher Education Commission (HEC), plays a key role in promoting AI research and development in various domains such as computer vision, natural language processing, and robotics. Several universities, including NUST, FAST, and Punjab University, have introduced AI degree programs to prepare skilled professionals.\\n\\nIn the private sector, tech startups and software houses are developing AI-powered solutions for healthcare, agriculture, education, and e-commerce. For example, AI-based medical diagnosis systems are being developed to assist doctors in remote areas, while agriculture-focused AI tools help farmers monitor crop health using satellite and drone imagery.\\n\\nOpportunities for Pakistan\\n\\nAI offers Pakistan significant opportunities for economic growth and social development:\\n\\nHealthcare: AI can assist in disease diagnosis, patient monitoring, and drug discovery, reducing the burden on the country’s limited healthcare resources.\\n\\nAgriculture: AI-driven precision farming can help improve crop yields and resource management, addressing food security issues.\\n\\nEducation: Intelligent tutoring systems and personalized learning platforms can bridge the education gap in rural areas.\\n\\nPublic Services: AI can enhance governance by improving data-driven decision-making, reducing corruption, and automating routine tasks.\\n\\nIndustry and Business: Automation, predictive analytics, and machine learning can improve manufacturing efficiency and create new market opportunities.\\n\\nChallenges in AI Adoption\\n\\nDespite the opportunities, Pakistan faces several challenges in AI adoption:\\n\\nLack of Skilled Workforce: There is a shortage of AI experts and data scientists in the country.\\n\\nLimited Research Funding: Investment in AI R&D remains low compared to global standards.\\n\\nData Availability and Quality: Access to large, high-quality datasets is still limited.\\n\\nInfrastructure Gaps: High-performance computing resources and reliable internet are lacking in many regions.\\n\\nEthical and Regulatory Issues: There are no comprehensive AI regulations in Pakistan to address concerns like bias, privacy, and misuse.\\n\\nGovernment and Policy Initiatives\\n\\nThe Digital Pakistan initiative aims to integrate technology into governance, education, and industry. In 2020, the government announced the National AI Policy Draft to guide AI development and regulate its applications. The policy emphasizes skill development, research funding, and public-private collaboration to make Pakistan a competitive player in the AI industry.\\n\\nFuture Outlook\\n\\nIf Pakistan invests strategically in AI education, infrastructure, and policy-making, the country can become a regional AI hub. Collaboration between academia, industry, and government will be crucial. Additionally, international partnerships can help Pakistan acquire the technical expertise and resources needed to accelerate AI adoption.\\n\\nConclusion\\n\\nAI has the potential to revolutionize Pakistan’s economy and improve the quality of life for its citizens. While challenges remain, the progress so far indicates a promising future. By focusing on education, research, infrastructure, and ethical governance, Pakistan can harness the power of AI to compete on a global scale and ensure sustainable development.\\n\\n\\n',\n",
       " 'language_feedback': \"The essay is well-structured, comprehensive, and clearly written. It provides a balanced overview of the state of AI in Pakistan, covering opportunities, challenges, and government initiatives effectively. The use of headings makes the content easy to follow. To improve, the essay could benefit from including specific data or statistics to support claims, such as the extent of the skilled workforce shortage or the level of R&D funding. The conclusion, while a good summary, could be made more impactful. Overall, it's a strong and informative piece.\",\n",
       " 'analysis_feedback': \"The essay provides a well-structured and comprehensive overview of the state of Artificial Intelligence in Pakistan.\\n\\nStrengths:\\n- Clear Organization: The essay is logically divided into sections (Current Landscape, Opportunities, Challenges, etc.), making it easy to follow.\\n- Informative Content: It effectively covers the key aspects of AI adoption in Pakistan, including government initiatives, educational programs, and private sector involvement.\\n- Readability: The language is clear, concise, and accessible.\\n\\nAreas for Improvement:\\n- Depth of Analysis: The essay is more descriptive than analytical. To improve, it could delve deeper into the specific examples mentioned. For instance, when discussing AI in healthcare, it could briefly explain the impact or challenges of a specific AI-based diagnostic tool being used.\\n- Lack of Data: The arguments would be more compelling with the inclusion of specific data or statistics, such as the growth rate of AI startups, investment figures in AI research, or the number of AI graduates produced annually.\\n- Critical Perspective: The essay could benefit from a more critical perspective, such as discussing the potential socioeconomic impacts of AI, like job displacement in certain sectors, or critiquing the pace and effectiveness of the government's policy implementation.\\n\\nOverall, it is a strong foundational essay that clearly outlines the topic. Adding more specific data and a deeper analytical perspective would elevate its quality significantly.\",\n",
       " 'clarity_feedback': \"The essay provides a well-structured and comprehensive overview of the state of Artificial Intelligence in Pakistan.\\n\\nStrengths:\\n- Clear Organization: The essay is logically divided into sections (Current Landscape, Opportunities, Challenges, etc.), making it easy to follow.\\n- Informative Content: It effectively covers the key aspects of AI adoption in Pakistan, including government initiatives, educational programs, and private sector involvement.\\n- Readability: The language is clear, concise, and accessible.\\n\\nAreas for Improvement:\\n- Depth of Analysis: The essay is more descriptive than analytical. To improve, it could delve deeper into the specific examples mentioned. For instance, when discussing AI in healthcare, it could briefly explain the impact or challenges of a specific AI-based diagnostic tool being used.\\n- Lack of Data: The arguments would be more compelling with the inclusion of specific data or statistics, such as the growth rate of AI startups, investment figures in AI research, or the number of AI graduates produced annually.\\n- Critical Perspective: The essay could benefit from a more critical perspective, such as discussing the potential socioeconomic impacts of AI, like job displacement in certain sectors, or critiquing the pace and effectiveness of the government's policy implementation.\\n\\nOverall, it is a strong foundational essay that clearly outlines the topic. Adding more specific data and a deeper analytical perspective would elevate its quality significantly.\",\n",
       " 'overall_feedback': 'Of course. Here is the consolidated final feedback based on the provided comments:\\n\\n***\\n\\n### **Final Feedback on the Essay: \"The State of AI in Pakistan\"**\\n\\nThis is a well-written and informative essay that provides a strong, comprehensive overview of the state of Artificial Intelligence in Pakistan. The piece is well-organized and effectively covers the key opportunities, challenges, and initiatives.\\n\\n**Strengths:**\\n\\n*   **Excellent Structure and Organization:** The essay is logically divided into sections with clear headings, which makes the content easy to follow and digest.\\n*   **Clarity and Readability:** The language is clear, concise, and accessible, making a complex topic understandable to a broad audience.\\n*   **Comprehensive Coverage:** You have successfully covered the most important aspects of the topic, including the current landscape, government policies, educational programs, and private sector involvement.\\n\\n**Areas for Improvement:**\\n\\nTo elevate this strong foundational essay into a more authoritative and impactful piece, consider the following suggestions:\\n\\n1.  **Incorporate Specific Data and Statistics:** The arguments would be significantly more compelling with the inclusion of hard data. For example, you could add statistics on the growth rate of AI startups, the amount of R&D funding, the number of AI graduates produced annually, or the specific shortage in the skilled workforce.\\n2.  **Deepen the Analysis:** The essay is currently more descriptive than analytical. Move beyond describing *what* is happening to analyzing *how* and *why* it is significant. For instance, when discussing an AI tool in healthcare, briefly explain its specific impact, success rate, or the challenges faced during its implementation.\\n3.  **Add a Critical Perspective:** Introduce a more critical lens to provide greater depth. This could involve discussing the potential negative socioeconomic impacts of AI, such as job displacement in key sectors, or offering a balanced critique of the pace and effectiveness of the government\\'s policy implementation.\\n4.  **Strengthen the Conclusion:** While the conclusion serves as a good summary, it could be made more powerful. Consider ending with a forward-looking statement, a call to action, or a final thought-provoking insight to leave a lasting impression on the reader.\\n\\n**Overall:**\\n\\nYou have produced a strong and well-structured essay. By incorporating more specific data, deeper analysis, and a critical perspective, you can transform it from a great overview into a truly insightful and authoritative analysis.',\n",
       " 'individual_score': [8, 8, 8],\n",
       " 'avg': [8.0]}"
      ]
     },
     "execution_count": 25,
     "metadata": {},
     "output_type": "execute_result"
    }
   ],
   "source": [
    "initial_state = {\n",
    "    'essay' : essay , \n",
    "}\n",
    "\n",
    "wf.invoke(initial_state)"
   ]
  },
  {
   "cell_type": "code",
   "execution_count": null,
   "id": "4d5ffd87",
   "metadata": {},
   "outputs": [],
   "source": []
  }
 ],
 "metadata": {
  "kernelspec": {
   "display_name": "myenv",
   "language": "python",
   "name": "python3"
  },
  "language_info": {
   "codemirror_mode": {
    "name": "ipython",
    "version": 3
   },
   "file_extension": ".py",
   "mimetype": "text/x-python",
   "name": "python",
   "nbconvert_exporter": "python",
   "pygments_lexer": "ipython3",
   "version": "3.12.7"
  }
 },
 "nbformat": 4,
 "nbformat_minor": 5
}
