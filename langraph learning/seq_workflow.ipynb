{
 "cells": [
  {
   "cell_type": "code",
   "execution_count": 5,
   "id": "a1596de2",
   "metadata": {},
   "outputs": [
    {
     "name": "stdout",
     "output_type": "stream",
     "text": [
      "Requirement already satisfied: langgraph in .\\myenv\\lib\\site-packages (0.6.5)\n",
      "Requirement already satisfied: langchain-core>=0.1 in .\\myenv\\lib\\site-packages (from langgraph) (0.3.74)\n",
      "Requirement already satisfied: langgraph-checkpoint<3.0.0,>=2.1.0 in .\\myenv\\lib\\site-packages (from langgraph) (2.1.1)\n",
      "Requirement already satisfied: langgraph-prebuilt<0.7.0,>=0.6.0 in .\\myenv\\lib\\site-packages (from langgraph) (0.6.4)\n",
      "Requirement already satisfied: langgraph-sdk<0.3.0,>=0.2.0 in .\\myenv\\lib\\site-packages (from langgraph) (0.2.0)\n",
      "Requirement already satisfied: pydantic>=2.7.4 in .\\myenv\\lib\\site-packages (from langgraph) (2.11.7)\n",
      "Requirement already satisfied: xxhash>=3.5.0 in .\\myenv\\lib\\site-packages (from langgraph) (3.5.0)\n",
      "Requirement already satisfied: langsmith>=0.3.45 in .\\myenv\\lib\\site-packages (from langchain-core>=0.1->langgraph) (0.4.14)\n",
      "Requirement already satisfied: tenacity!=8.4.0,<10.0.0,>=8.1.0 in .\\myenv\\lib\\site-packages (from langchain-core>=0.1->langgraph) (9.1.2)\n",
      "Requirement already satisfied: jsonpatch<2.0,>=1.33 in .\\myenv\\lib\\site-packages (from langchain-core>=0.1->langgraph) (1.33)\n",
      "Requirement already satisfied: PyYAML>=5.3 in .\\myenv\\lib\\site-packages (from langchain-core>=0.1->langgraph) (6.0.2)\n",
      "Requirement already satisfied: typing-extensions>=4.7 in .\\myenv\\lib\\site-packages (from langchain-core>=0.1->langgraph) (4.14.1)\n",
      "Requirement already satisfied: packaging>=23.2 in .\\myenv\\lib\\site-packages (from langchain-core>=0.1->langgraph) (25.0)\n",
      "Requirement already satisfied: ormsgpack>=1.10.0 in .\\myenv\\lib\\site-packages (from langgraph-checkpoint<3.0.0,>=2.1.0->langgraph) (1.10.0)\n",
      "Requirement already satisfied: httpx>=0.25.2 in .\\myenv\\lib\\site-packages (from langgraph-sdk<0.3.0,>=0.2.0->langgraph) (0.28.1)\n",
      "Requirement already satisfied: orjson>=3.10.1 in .\\myenv\\lib\\site-packages (from langgraph-sdk<0.3.0,>=0.2.0->langgraph) (3.11.2)\n",
      "Requirement already satisfied: annotated-types>=0.6.0 in .\\myenv\\lib\\site-packages (from pydantic>=2.7.4->langgraph) (0.7.0)\n",
      "Requirement already satisfied: pydantic-core==2.33.2 in .\\myenv\\lib\\site-packages (from pydantic>=2.7.4->langgraph) (2.33.2)\n",
      "Requirement already satisfied: typing-inspection>=0.4.0 in .\\myenv\\lib\\site-packages (from pydantic>=2.7.4->langgraph) (0.4.1)\n",
      "Requirement already satisfied: anyio in .\\myenv\\lib\\site-packages (from httpx>=0.25.2->langgraph-sdk<0.3.0,>=0.2.0->langgraph) (4.10.0)\n",
      "Requirement already satisfied: certifi in .\\myenv\\lib\\site-packages (from httpx>=0.25.2->langgraph-sdk<0.3.0,>=0.2.0->langgraph) (2025.8.3)\n",
      "Requirement already satisfied: httpcore==1.* in .\\myenv\\lib\\site-packages (from httpx>=0.25.2->langgraph-sdk<0.3.0,>=0.2.0->langgraph) (1.0.9)\n",
      "Requirement already satisfied: idna in .\\myenv\\lib\\site-packages (from httpx>=0.25.2->langgraph-sdk<0.3.0,>=0.2.0->langgraph) (3.10)\n",
      "Requirement already satisfied: h11>=0.16 in .\\myenv\\lib\\site-packages (from httpcore==1.*->httpx>=0.25.2->langgraph-sdk<0.3.0,>=0.2.0->langgraph) (0.16.0)\n",
      "Requirement already satisfied: jsonpointer>=1.9 in .\\myenv\\lib\\site-packages (from jsonpatch<2.0,>=1.33->langchain-core>=0.1->langgraph) (3.0.0)\n",
      "Requirement already satisfied: requests-toolbelt>=1.0.0 in .\\myenv\\lib\\site-packages (from langsmith>=0.3.45->langchain-core>=0.1->langgraph) (1.0.0)\n",
      "Requirement already satisfied: requests>=2.0.0 in .\\myenv\\lib\\site-packages (from langsmith>=0.3.45->langchain-core>=0.1->langgraph) (2.32.4)\n",
      "Requirement already satisfied: zstandard>=0.23.0 in .\\myenv\\lib\\site-packages (from langsmith>=0.3.45->langchain-core>=0.1->langgraph) (0.23.0)\n",
      "Requirement already satisfied: charset_normalizer<4,>=2 in .\\myenv\\lib\\site-packages (from requests>=2.0.0->langsmith>=0.3.45->langchain-core>=0.1->langgraph) (3.4.3)\n",
      "Requirement already satisfied: urllib3<3,>=1.21.1 in .\\myenv\\lib\\site-packages (from requests>=2.0.0->langsmith>=0.3.45->langchain-core>=0.1->langgraph) (2.5.0)\n",
      "Requirement already satisfied: sniffio>=1.1 in .\\myenv\\lib\\site-packages (from anyio->httpx>=0.25.2->langgraph-sdk<0.3.0,>=0.2.0->langgraph) (1.3.1)\n"
     ]
    },
    {
     "name": "stderr",
     "output_type": "stream",
     "text": [
      "\n",
      "[notice] A new release of pip is available: 24.2 -> 25.2\n",
      "[notice] To update, run: python.exe -m pip install --upgrade pip\n"
     ]
    }
   ],
   "source": [
    "! pip install langgraph"
   ]
  },
  {
   "cell_type": "markdown",
   "id": "7de71ba6",
   "metadata": {},
   "source": [
    "BMI workflow using Langgraph"
   ]
  },
  {
   "cell_type": "code",
   "execution_count": 30,
   "id": "f85fb791",
   "metadata": {},
   "outputs": [],
   "source": [
    "from langgraph.graph import StateGraph, START , END\n",
    "from typing import TypedDict"
   ]
  },
  {
   "cell_type": "code",
   "execution_count": 49,
   "id": "f07fbcbb",
   "metadata": {},
   "outputs": [],
   "source": [
    "# define state\n",
    "class BMIState(TypedDict):\n",
    "    weight_kg: float\n",
    "    height_m : float\n",
    "    bmi : float\n",
    "    bmi_category : str\n"
   ]
  },
  {
   "cell_type": "code",
   "execution_count": 50,
   "id": "44252d84",
   "metadata": {},
   "outputs": [],
   "source": [
    "# functions\n",
    "\n",
    "def cal_bmi(state : BMIState) -> BMIState:\n",
    "    bmi = state['weight_kg']/(state['height_m']**2)\n",
    "    state['bmi'] = round(bmi,2)\n",
    "    return state\n",
    "\n",
    "def label_bmi (state : BMIState) -> BMIState:\n",
    "    if state['bmi'] < 18.5:\n",
    "        state['bmi_category'] = 'underweight'\n",
    "    elif state['bmi'] < 25:\n",
    "        state['bmi_category'] = 'normal weight'\n",
    "    elif state['bmi'] < 30:\n",
    "        state['bmi_category'] = 'overweight'\n",
    "    else:\n",
    "        state['bmi_category'] = 'obesity'\n",
    "    return state\n",
    "    "
   ]
  },
  {
   "cell_type": "code",
   "execution_count": 51,
   "id": "ac482fa4",
   "metadata": {},
   "outputs": [],
   "source": [
    "# define graph \n",
    "graph = StateGraph(BMIState)"
   ]
  },
  {
   "cell_type": "code",
   "execution_count": 52,
   "id": "bb53e27c",
   "metadata": {},
   "outputs": [
    {
     "data": {
      "text/plain": [
       "<langgraph.graph.state.StateGraph at 0x2ae07c6a3c0>"
      ]
     },
     "execution_count": 52,
     "metadata": {},
     "output_type": "execute_result"
    }
   ],
   "source": [
    "# add the nodes\n",
    "graph.add_node('calculate bmi' , cal_bmi)\n",
    "graph.add_node('bmi category' , label_bmi)"
   ]
  },
  {
   "cell_type": "code",
   "execution_count": 53,
   "id": "0eaa4548",
   "metadata": {},
   "outputs": [
    {
     "data": {
      "text/plain": [
       "<langgraph.graph.state.StateGraph at 0x2ae07c6a3c0>"
      ]
     },
     "execution_count": 53,
     "metadata": {},
     "output_type": "execute_result"
    }
   ],
   "source": [
    "# add the edges to graph\n",
    "graph.add_edge(START , 'calculate bmi')\n",
    "graph.add_edge('calculate bmi','bmi category')\n",
    "graph.add_edge('bmi category' ,END)"
   ]
  },
  {
   "cell_type": "code",
   "execution_count": 54,
   "id": "922662b0",
   "metadata": {},
   "outputs": [],
   "source": [
    "# compile the graph\n",
    "wf = graph.compile()"
   ]
  },
  {
   "cell_type": "code",
   "execution_count": 55,
   "id": "85483c74",
   "metadata": {},
   "outputs": [
    {
     "data": {
      "text/plain": [
       "{'weight_kg': 70, 'height_m': 4, 'bmi': 4.38, 'bmi_category': 'underweight'}"
      ]
     },
     "execution_count": 55,
     "metadata": {},
     "output_type": "execute_result"
    }
   ],
   "source": [
    "# execute the graph\n",
    "wf.invoke({'weight_kg':70 , 'height_m' : 4})"
   ]
  },
  {
   "cell_type": "code",
   "execution_count": 56,
   "id": "ed443e88",
   "metadata": {},
   "outputs": [
    {
     "data": {
      "image/png": "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",
      "text/plain": [
       "<IPython.core.display.Image object>"
      ]
     },
     "execution_count": 56,
     "metadata": {},
     "output_type": "execute_result"
    }
   ],
   "source": [
    "from IPython.display import Image\n",
    "Image(wf.get_graph().draw_mermaid_png())"
   ]
  },
  {
   "cell_type": "markdown",
   "id": "e5570350",
   "metadata": {},
   "source": [
    "LLM workflow"
   ]
  },
  {
   "cell_type": "code",
   "execution_count": 5,
   "id": "6207c4c7",
   "metadata": {},
   "outputs": [
    {
     "name": "stderr",
     "output_type": "stream",
     "text": [
      "\n",
      "[notice] A new release of pip is available: 24.2 -> 25.2\n",
      "[notice] To update, run: python.exe -m pip install --upgrade pip\n"
     ]
    }
   ],
   "source": [
    "!pip install -qU \"langchain[google-genai]\"\n",
    "\n"
   ]
  },
  {
   "cell_type": "code",
   "execution_count": null,
   "id": "e109dde7",
   "metadata": {},
   "outputs": [],
   "source": [
    "from langgraph.graph import StateGraph, START , END\n",
    "from typing import TypedDict\n",
    "from langchain_google_genai import ChatGoogleGenerativeAI\n",
    "from getpass import getpass\n"
   ]
  },
  {
   "cell_type": "code",
   "execution_count": 3,
   "id": "ffb9d88f",
   "metadata": {},
   "outputs": [],
   "source": [
    "api_key = """
   ]
  },
  {
   "cell_type": "code",
   "execution_count": 13,
   "id": "fdb75cd9",
   "metadata": {},
   "outputs": [],
   "source": [
    "model = ChatGoogleGenerativeAI(\n",
    "    model=\"gemini-2.5-pro\",\n",
    "    temperature=0,\n",
    "    max_tokens=None,\n",
    "    timeout=None,\n",
    "    max_retries=2,\n",
    "    api_key = api_key\n",
    ")"
   ]
  },
  {
   "cell_type": "code",
   "execution_count": null,
   "id": "5fb1a42b",
   "metadata": {},
   "outputs": [],
   "source": []
  },
  {
   "cell_type": "code",
   "execution_count": 23,
   "id": "10a192f6",
   "metadata": {},
   "outputs": [],
   "source": [
    "# create a state\n",
    "class LLMstate(TypedDict):\n",
    "    input : str\n",
    "    output : str"
   ]
  },
  {
   "cell_type": "code",
   "execution_count": 24,
   "id": "f7b82179",
   "metadata": {},
   "outputs": [],
   "source": [
    "# create a graph\n",
    "graph = StateGraph(LLMstate)"
   ]
  },
  {
   "cell_type": "code",
   "execution_count": 25,
   "id": "09d75657",
   "metadata": {},
   "outputs": [],
   "source": [
    "# creating function \n",
    "def llm_qa(state : LLMstate) -> LLMstate :\n",
    "    inp = state['input']\n",
    "    prompt = f\"answer this question {inp}\"\n",
    "    ans = model.invoke(prompt)\n",
    "    state['output'] = ans.content\n",
    "    return state"
   ]
  },
  {
   "cell_type": "code",
   "execution_count": 26,
   "id": "b4311086",
   "metadata": {},
   "outputs": [
    {
     "data": {
      "text/plain": [
       "<langgraph.graph.state.StateGraph at 0x15a8b489bb0>"
      ]
     },
     "execution_count": 26,
     "metadata": {},
     "output_type": "execute_result"
    }
   ],
   "source": [
    "# creating nodes \n",
    "graph.add_node('LLM' , llm_qa)"
   ]
  },
  {
   "cell_type": "code",
   "execution_count": 27,
   "id": "0949d65b",
   "metadata": {},
   "outputs": [
    {
     "data": {
      "text/plain": [
       "<langgraph.graph.state.StateGraph at 0x15a8b489bb0>"
      ]
     },
     "execution_count": 27,
     "metadata": {},
     "output_type": "execute_result"
    }
   ],
   "source": [
    "# creating edges \n",
    "graph.add_edge(START , 'LLM')\n",
    "graph.add_edge('LLM' , END)"
   ]
  },
  {
   "cell_type": "code",
   "execution_count": 30,
   "id": "90f78566",
   "metadata": {},
   "outputs": [],
   "source": [
    "wf = graph.compile()"
   ]
  },
  {
   "cell_type": "code",
   "execution_count": 32,
   "id": "53ec76f1",
   "metadata": {},
   "outputs": [
    {
     "data": {
      "text/plain": [
       "{'input': 'hello', 'output': 'Hello there! How can I help you today?'}"
      ]
     },
     "execution_count": 32,
     "metadata": {},
     "output_type": "execute_result"
    }
   ],
   "source": [
    "# execute task \n",
    "wf.invoke({'input' : \"hello\"})"
   ]
  },
  {
   "cell_type": "markdown",
   "id": "286d5d39",
   "metadata": {},
   "source": [
    "## Prompt chaining workflows"
   ]
  },
  {
   "cell_type": "code",
   "execution_count": 33,
   "id": "7c6bf14d",
   "metadata": {},
   "outputs": [],
   "source": [
    "from langgraph.graph import StateGraph, START , END\n",
    "from typing import TypedDict\n",
    "from langchain_google_genai import ChatGoogleGenerativeAI\n",
    "from getpass import getpass\n"
   ]
  },
  {
   "cell_type": "code",
   "execution_count": 34,
   "id": "d21cf2f6",
   "metadata": {},
   "outputs": [],
   "source": [
    "# create a state\n",
    "class Blogstate(TypedDict):\n",
    "    tittle : str\n",
    "    outline : str\n",
    "    blog : str"
   ]
  },
  {
   "cell_type": "code",
   "execution_count": 35,
   "id": "ba997a3e",
   "metadata": {},
   "outputs": [],
   "source": [
    "# create a graph\n",
    "graph = StateGraph(Blogstate)"
   ]
  },
  {
   "cell_type": "code",
   "execution_count": 36,
   "id": "4a4ea041",
   "metadata": {},
   "outputs": [],
   "source": [
    "# creating functions \n",
    "\n",
    "def oulines_generator(state : Blogstate) -> Blogstate :\n",
    "    topic = state['tittle']\n",
    "    prompt = f\"Create an ouline on a given topic {topic}\"\n",
    "    result = model.invoke(prompt).content\n",
    "    state['outline'] = result\n",
    "    return state\n",
    "\n",
    "\n",
    "def blog_generator(state : Blogstate) -> Blogstate :\n",
    "    outlines = state['outline']\n",
    "    prompt = f\" Create a good blog based on that outlines {outlines}\"\n",
    "    result = model.invoke(prompt).content\n",
    "    state['blog'] = result\n",
    "    return state"
   ]
  },
  {
   "cell_type": "code",
   "execution_count": 38,
   "id": "dec589a1",
   "metadata": {},
   "outputs": [
    {
     "data": {
      "text/plain": [
       "<langgraph.graph.state.StateGraph at 0x15a8b489580>"
      ]
     },
     "execution_count": 38,
     "metadata": {},
     "output_type": "execute_result"
    }
   ],
   "source": [
    "# creating a nodes\n",
    "graph.add_node(\"Outlines\" , oulines_generator)\n",
    "graph.add_node(\"Blog generator\" , blog_generator)\n"
   ]
  },
  {
   "cell_type": "code",
   "execution_count": 39,
   "id": "c5731cec",
   "metadata": {},
   "outputs": [
    {
     "data": {
      "text/plain": [
       "<langgraph.graph.state.StateGraph at 0x15a8b489580>"
      ]
     },
     "execution_count": 39,
     "metadata": {},
     "output_type": "execute_result"
    }
   ],
   "source": [
    "# creating edges\n",
    "graph.add_edge(START , 'Outlines')\n",
    "graph.add_edge('Outlines',\"Blog generator\")\n",
    "graph.add_edge(\"Blog generator\", END)"
   ]
  },
  {
   "cell_type": "code",
   "execution_count": 41,
   "id": "8721b9d4",
   "metadata": {},
   "outputs": [],
   "source": [
    "wf = graph.compile()"
   ]
  },
  {
   "cell_type": "code",
   "execution_count": 42,
   "id": "9a1358f2",
   "metadata": {},
   "outputs": [
    {
     "data": {
      "text/plain": [
       "{'tittle': 'Pkaistan AI industries',\n",
       " 'outline': 'Of course. Here is a comprehensive outline on the topic of Pakistan\\'s AI industry.\\n\\n---\\n\\n### **Outline: The State and Future of Pakistan\\'s Artificial Intelligence (AI) Industry**\\n\\n**Thesis Statement:** While still in its nascent stages, Pakistan\\'s Artificial Intelligence industry is poised for significant growth, driven by a large pool of young tech talent, a burgeoning startup ecosystem, and increasing government focus. However, to realize its full potential, it must overcome critical challenges related to funding, infrastructure, brain drain, and policy implementation.\\n\\n---\\n\\n**I. Introduction**\\n    A. The Global AI Revolution and Its Importance for Developing Nations\\n    B. Pakistan\\'s Position: An Emerging Player with High Potential\\n    C. Purpose of the Outline: To analyze the current landscape, drivers, challenges, and future trajectory of the AI industry in Pakistan.\\n\\n**II. The Current Landscape of AI in Pakistan**\\n    A. **Stage of Development:** Nascent and fragmented, but dynamic and rapidly evolving.\\n    B. **Primary Focus:** Predominantly on \"Applied AI\" (using existing models and tools) rather than \"Fundamental AI\" (core research and development).\\n    C. **Key Adoption Sectors:**\\n        1.  **Fintech:** Fraud detection, credit scoring, customer service chatbots.\\n        2.  **E-commerce & Retail:** Recommendation engines, supply chain optimization, sentiment analysis.\\n        3.  **Healthcare:** Early-stage adoption in diagnostic imaging and telemedicine platforms.\\n        4.  **IT Services:** Offering AI-powered solutions and outsourcing to international clients.\\n    D. **Market Size and Investment:** Growing but still small compared to regional peers; attracting initial seed and pre-seed funding.\\n\\n**III. Key Strengths and Driving Forces**\\n    A. **Human Capital: The Demographic Dividend**\\n        1.  Large, young, and tech-savvy population.\\n        2.  Strong pool of STEM (Science, Technology, Engineering, and Mathematics) graduates from universities like NUST, FAST, LUMS, and ITU.\\n        3.  A massive and growing freelance community, ranking among the top in the world.\\n    B. **Cost-Effective Talent Pool**\\n        1.  Competitive advantage in providing affordable AI development and data annotation services globally.\\n        2.  Attractiveness for international companies to set up remote development teams.\\n    C. **Vibrant Startup Ecosystem**\\n        1.  Growth of incubators, accelerators, and co-working spaces (e.g., National Incubation Centers, Plan9).\\n        2.  Agile startups are the primary drivers of AI innovation and adoption.\\n    D. **Increasing Digital Penetration**\\n        1.  Rising smartphone and internet usage creates vast amounts of data—the fuel for AI.\\n        2.  Digital payment systems and e-governance initiatives are generating structured datasets.\\n\\n**IV. Major Challenges and Weaknesses**\\n    A. **Talent and Education Gap**\\n        1.  **Brain Drain:** Migration of top AI talent to North America, Europe, and the Middle East for better opportunities.\\n        2.  **Academia-Industry Disconnect:** University curricula often lag behind the fast-paced demands of the AI industry.\\n        3.  Shortage of experienced senior AI architects and data scientists.\\n    B. **Funding and Investment Scarcity**\\n        1.  Limited access to local venture capital, especially for deep-tech, R&D-intensive AI startups.\\n        2.  Investors often prefer business models with quicker, more predictable returns (e.g., e-commerce) over long-term AI research.\\n    C. **Data Infrastructure and Accessibility**\\n        1.  Lack of high-quality, localized, and publicly available datasets for training models (e.g., in Urdu language processing, local agricultural data).\\n        2.  Concerns regarding data privacy, security, and governance.\\n    D. **Infrastructure and Policy Hurdles**\\n        1.  Inconsistent electricity and internet connectivity, particularly outside major urban centers.\\n        2.  Lack of a fully implemented and cohesive National AI Strategy.\\n        3.  Bureaucratic red tape can hinder innovation and foreign investment.\\n\\n**V. Opportunities and Key Growth Areas**\\n    A. **Agriculture:** AI for crop monitoring, yield prediction, pest detection, and smart irrigation to boost a critical sector of the economy.\\n    B. **Healthcare (HealthTech):** AI-powered diagnostics, personalized medicine, hospital management systems, and predictive analytics for disease outbreaks.\\n    C. **Fintech:** Expanding beyond basic applications to algorithmic trading, robo-advisors, and blockchain-based AI solutions.\\n    D. **Natural Language Processing (NLP):** Developing solutions for Urdu and other regional languages (e.g., voice assistants, translation services, sentiment analysis).\\n    E. **E-Governance:** Optimizing public services, traffic management in smart cities, resource allocation, and enhancing national security.\\n    F. **Education (EdTech):** Creating personalized learning platforms, automated assessment tools, and adaptive curricula.\\n\\n**VI. The Ecosystem: Key Players and Stakeholders**\\n    A. **Startups and SMEs:** Companies like Afiniti, SadaPay, Abhi, and numerous smaller AI-focused service providers.\\n    B. **Established Tech Companies:** Systems Limited, TRG, Netsol, which are increasingly integrating AI into their service offerings.\\n    C. **Academic and Research Institutions:**\\n        1.  National Center for Artificial Intelligence (NCAI).\\n        2.  Universities with strong CS/AI programs (NUST, FAST, ITU, LUMS).\\n    D. **Government and Public Bodies:**\\n        1.  Ministry of IT & Telecom (MoITT).\\n        2.  Pakistan Software Export Board (PSEB).\\n        3.  Special Technology Zones Authority (STZA).\\n    E. **Developer Communities and Non-Profits:** Google Developer Groups, AI/ML Pakistan communities, and local tech meetups fostering collaboration and learning.\\n\\n**VII. Future Outlook and Recommendations**\\n    A. **Short-Term (1-3 Years):**\\n        1.  **Outlook:** Continued growth in AI services outsourcing; increased adoption of AI in fintech and e-commerce.\\n        2.  **Recommendations:** Strengthen industry-academia linkages; launch nationwide AI literacy programs.\\n    B. **Medium-Term (3-5 Years):**\\n        1.  **Outlook:** Emergence of successful AI product startups; potential for AI to make a measurable impact in agriculture and healthcare.\\n        2.  **Recommendations:** Finalize and implement the National AI Policy; create sovereign funds for deep-tech AI startups; develop national data repositories.\\n    C. **Long-Term (5+ Years):**\\n        1.  **Outlook:** Potential to become a regional hub for AI talent and specialized AI solutions.\\n        2.  **Recommendations:** Invest heavily in R&D infrastructure; create policies to reverse brain drain; establish a robust ethical and legal framework for AI.\\n\\n**VIII. Conclusion**\\n    A. Recap of Pakistan\\'s AI industry as a landscape of immense potential constrained by significant challenges.\\n    B. The path forward requires a concerted, multi-stakeholder effort from the government, industry, and academia.\\n    C. Final thought: Strategic investment in talent, infrastructure, and a supportive policy environment will be the key to unlocking Pakistan\\'s future as a competitive player in the global AI economy.',\n",
       " 'blog': 'Of course! Here is a comprehensive blog post created from the provided outline. It transforms the structured points into a flowing, engaging narrative suitable for a wide audience.\\n\\n---\\n\\n## The Dawn of AI in Pakistan: Potential, Pitfalls, and the Path Forward\\n\\nThe world is in the grip of an Artificial Intelligence revolution. From ChatGPT writing poetry to algorithms predicting market trends, AI is no longer science fiction; it\\'s a foundational technology reshaping economies and societies. For developing nations, this wave presents a monumental opportunity—a chance to leapfrog traditional development hurdles.\\n\\nNowhere is this potential more palpable than in Pakistan. With a massive youth population, a booming tech scene, and a growing digital footprint, the country stands at a critical juncture. While still in its early days, Pakistan\\'s AI industry is a sleeping giant, poised for significant growth.\\n\\nBut to awaken this giant, the nation must navigate a complex landscape of immense talent, vibrant innovation, and significant structural challenges. In this deep dive, we\\'ll explore the current state, driving forces, and future trajectory of Artificial Intelligence in Pakistan.\\n\\n### Where Pakistan Stands Today: A Snapshot of the AI Scene\\n\\nPakistan\\'s AI industry can be described as nascent but dynamic. It\\'s a fragmented ecosystem buzzing with energy, primarily focused on **\"Applied AI.\"** Rather than building foundational AI models from scratch (a resource-intensive task dominated by tech giants), Pakistani companies are excelling at using existing AI tools to solve real-world problems.\\n\\nThis practical approach has led to AI adoption in several key sectors:\\n\\n*   **Fintech:** Banks and startups are using AI for fraud detection, algorithmic credit scoring, and deploying chatbots to handle customer queries, making financial services more secure and accessible.\\n*   **E-commerce & Retail:** From personalized product recommendations on Daraz to optimizing complex supply chains, AI is helping retailers understand customer behavior and improve efficiency.\\n*   **Healthcare:** While still in early stages, AI is being used to analyze diagnostic images and power telemedicine platforms, bringing specialist care to remote areas.\\n*   **IT Services:** Pakistan\\'s powerhouse IT export industry is increasingly offering AI-powered solutions, data annotation, and machine learning model development to international clients.\\n\\nWhile investment is growing, it remains modest compared to regional peers. The scene is dominated by seed and pre-seed funding, indicating an industry that is still finding its footing but is rich with potential.\\n\\n### The Fuel for Growth: Pakistan\\'s Key Strengths\\n\\nWhat makes Pakistan a potential AI powerhouse? The answer lies in a powerful combination of human capital and a rapidly evolving digital landscape.\\n\\n**1. The Demographic Dividend:** Pakistan has one of the youngest populations in the world. This tech-savvy generation is graduating in droves from top STEM universities like NUST, FAST, LUMS, and ITU. This creates a vast talent pool ready to be trained and deployed. Furthermore, Pakistan\\'s massive freelance community—one of the largest globally—is an agile and skilled workforce already contributing to the global AI supply chain.\\n\\n**2. A Cost-Effective Talent Pool:** This abundance of talent offers a significant competitive advantage. Pakistan can provide high-quality AI development and data services at a fraction of the cost of Western markets, making it an attractive destination for international companies looking to build remote development teams.\\n\\n**3. A Vibrant Startup Ecosystem:** The rise of incubators like the National Incubation Centers (NICs) and accelerators like Plan9 has created fertile ground for innovation. These agile startups are the primary drivers of AI adoption, unencumbered by the legacy systems of larger corporations and free to experiment with cutting-edge solutions.\\n\\n**4. Increasing Digital Penetration:** Data is the lifeblood of AI. With soaring smartphone and internet usage, Pakistanis are generating vast amounts of data every day. Initiatives in digital payments and e-governance are creating the structured datasets needed to train sophisticated AI models.\\n\\n### The Hurdles on the Horizon: Overcoming Critical Challenges\\n\\nDespite its strengths, the path forward is not without obstacles. To realize its potential, Pakistan must address several deep-rooted challenges.\\n\\n*   **The Talent and Education Gap:** The most critical challenge is **brain drain**. Top AI talent often migrates to North America, Europe, and the Middle East for better salaries and opportunities. Compounding this is a disconnect between academia and industry, where university curricula can lag behind the fast-paced skills demanded by the market, leading to a shortage of experienced senior AI architects.\\n*   **Funding and Investment Scarcity:** Local venture capital is still cautious. Investors often prefer business models with quicker, more predictable returns, like e-commerce, over the long-term, research-intensive nature of deep-tech AI startups.\\n*   **Data and Infrastructure Issues:** There is a lack of high-quality, localized public datasets—for example, for training AI in Urdu or analyzing local crop patterns. Furthermore, inconsistent electricity and internet connectivity, especially outside major cities, remain a fundamental barrier.\\n*   **Policy and Bureaucracy:** While a National AI Strategy has been discussed, a fully implemented, cohesive policy is yet to materialize. Bureaucratic red tape can also slow down innovation and deter foreign investment.\\n\\n### The Golden Opportunities: Where AI Can Make the Biggest Impact\\n\\nIf these challenges can be overcome, the potential for AI to transform Pakistan\\'s economy and society is immense. Key growth areas include:\\n\\n*   **Agriculture:** In a country where agriculture is the backbone of the economy, AI can be revolutionary. Imagine smart irrigation systems conserving water, drones monitoring crop health, and predictive models forecasting yields to prevent food shortages.\\n*   **Healthcare (HealthTech):** AI-powered diagnostics can bring affordable and accurate medical imaging analysis to rural clinics, while predictive analytics can help manage disease outbreaks before they become epidemics.\\n*   **Natural Language Processing (NLP):** Developing robust AI for Urdu and other regional languages could unlock digital services for millions, powering everything from voice assistants to sophisticated sentiment analysis for local businesses.\\n*   **E-Governance:** AI can optimize public services, manage traffic in smart cities, and ensure efficient resource allocation, leading to a more transparent and effective government.\\n*   **Education (EdTech):** Personalized learning platforms powered by AI can cater to individual student needs, helping to bridge the educational quality gap across the country.\\n\\n### A Roadmap for Success: The Next Decade of AI in Pakistan\\n\\nThe journey requires a clear, multi-stage plan involving government, industry, and academia working in concert.\\n\\n*   **Short-Term (1-3 Years):** The focus should be on strengthening industry-academia linkages to produce market-ready graduates and launching nationwide AI literacy programs to build a foundational understanding of the technology.\\n*   **Medium-Term (3-5 Years):** This is the time to finalize and rigorously implement the National AI Policy. Creating sovereign funds for deep-tech AI startups and developing national data repositories will be crucial to fostering homegrown innovation.\\n*   **Long-Term (5+ Years):** The ultimate goal is to become a regional hub for specialized AI solutions. This requires heavy investment in R&D infrastructure, creating policies to reverse brain drain (e.g., incentives for returning experts), and establishing a robust ethical and legal framework for AI.\\n\\n### Conclusion: A Future Forged by Choice\\n\\nPakistan\\'s AI journey is a tale of dualities: immense potential constrained by significant challenges, a wealth of raw talent facing a shortage of seasoned experts, and a vibrant startup culture navigating a cautious investment climate.\\n\\nThe path forward is not guaranteed; it must be built. It requires a unified national vision and a relentless commitment from all stakeholders. The question is not *if* Pakistan will have a place in the global AI economy, but how significant that place will be.\\n\\nThe answer lies in the strategic choices made today. By investing in its people, building robust infrastructure, and creating a supportive policy environment, Pakistan can unlock its potential and turn the dawn of AI into a bright and prosperous day.'}"
      ]
     },
     "execution_count": 42,
     "metadata": {},
     "output_type": "execute_result"
    }
   ],
   "source": [
    "wf.invoke({'tittle':'Pkaistan AI industries'})"
   ]
  },
  {
   "cell_type": "code",
   "execution_count": null,
   "id": "6e8cac6e",
   "metadata": {},
   "outputs": [],
   "source": []
  }
 ],
 "metadata": {
  "kernelspec": {
   "display_name": "myenv",
   "language": "python",
   "name": "python3"
  },
  "language_info": {
   "codemirror_mode": {
    "name": "ipython",
    "version": 3
   },
   "file_extension": ".py",
   "mimetype": "text/x-python",
   "name": "python",
   "nbconvert_exporter": "python",
   "pygments_lexer": "ipython3",
   "version": "3.12.7"
  }
 },
 "nbformat": 4,
 "nbformat_minor": 5
}
