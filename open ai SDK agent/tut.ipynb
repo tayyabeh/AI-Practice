{
 "cells": [
  {
   "cell_type": "code",
   "execution_count": null,
   "id": "97253aec",
   "metadata": {},
   "outputs": [],
   "source": [
    "%pip install openai-agents\n",
    "%pip install openai-agents[litellm]"
   ]
  },
  {
   "cell_type": "code",
   "execution_count": 86,
   "id": "30beda46",
   "metadata": {},
   "outputs": [
    {
     "name": "stdout",
     "output_type": "stream",
     "text": [
      "\n"
     ]
    }
   ],
   "source": [
    "import os\n",
    "os.environ[\"GEMINI_API_KEY\"] = \"\"\n",
    "print(os.getenv(\"GEMINI_API_KEY\")) "
   ]
  },
  {
   "cell_type": "code",
   "execution_count": 10,
   "id": "98d0721f",
   "metadata": {},
   "outputs": [],
   "source": [
    "from agents import Agent ,Runner\n",
    "import asyncio"
   ]
  },
  {
   "cell_type": "code",
   "execution_count": 12,
   "id": "e00de151",
   "metadata": {},
   "outputs": [],
   "source": [
    "# def main():\n",
    "#     agent = Agent (name= \"Tester\" , instructions=\"Answer the question \", model=\"litellm/gemini/gemini-1.5-flash\")\n",
    "\n",
    "#     result = await Runner.run(agent , \"write a motivational quote of work\")\n",
    "#     print(result.final_output)"
   ]
  },
  {
   "cell_type": "code",
   "execution_count": 19,
   "id": "a93b3f28",
   "metadata": {},
   "outputs": [],
   "source": [
    "import asyncio\n",
    "from agents import Agent, Runner\n",
    "\n",
    "# creating an agent \n",
    "agent = Agent(\n",
    "    name = \"Gemini agent\",\n",
    "    instructions = \"You are a helpfull assistant to guide the user query \",\n",
    "    model = \"litellm/gemini/gemini-1.5-flash\"\n",
    ")"
   ]
  },
  {
   "cell_type": "code",
   "execution_count": 20,
   "id": "3b6fe8d3",
   "metadata": {},
   "outputs": [],
   "source": [
    "async def main():\n",
    "    result = await Runner.run(agent,input=\"Can you tell me what is the capital of Pakistan?\")\n",
    "    print(\"Agent : \" , result.final_output)"
   ]
  },
  {
   "cell_type": "code",
   "execution_count": 21,
   "id": "0c3273d6",
   "metadata": {},
   "outputs": [
    {
     "name": "stderr",
     "output_type": "stream",
     "text": [
      "C:\\Program Files\\WindowsApps\\PythonSoftwareFoundation.Python.3.12_3.12.2800.0_x64__qbz5n2kfra8p0\\Lib\\typing.py:407: RuntimeWarning: coroutine 'main' was never awaited\n",
      "  def _eval_type(t, globalns, localns, type_params=None, *, recursive_guard=frozenset()):\n",
      "RuntimeWarning: Enable tracemalloc to get the object allocation traceback\n"
     ]
    },
    {
     "name": "stdout",
     "output_type": "stream",
     "text": [
      "Agent :  The capital of Pakistan is **Islamabad**.\n",
      "\n"
     ]
    }
   ],
   "source": [
    "await main()"
   ]
  },
  {
   "cell_type": "markdown",
   "id": "f5545af8",
   "metadata": {},
   "source": [
    "# Basic configuration"
   ]
  },
  {
   "cell_type": "code",
   "execution_count": null,
   "id": "31ceff97",
   "metadata": {},
   "outputs": [],
   "source": [
    "from agents import Agent , Runner\n",
    "\n",
    "agent = Agent(\n",
    "    name=\"Helpfull Assistant\",\n",
    "    instructions = \"You are the helpful assistant\",\n",
    "    model = \"litellm/gemini/gemini-1.5-flash\"\n",
    ")\n",
    "\n",
    "# result = Runner.run_sync(agent , input=\"What is the capital of France?\")\n",
    "# print(result.final_output)"
   ]
  },
  {
   "cell_type": "markdown",
   "id": "d522ba36",
   "metadata": {},
   "source": [
    "# Context"
   ]
  },
  {
   "cell_type": "code",
   "execution_count": 2,
   "id": "376e9f7a",
   "metadata": {},
   "outputs": [],
   "source": [
    "from agents import Agent , Runner , function_tool\n",
    "import os \n",
    "import asyncio"
   ]
  },
  {
   "cell_type": "code",
   "execution_count": 85,
   "id": "78f02e47",
   "metadata": {},
   "outputs": [
    {
     "name": "stdout",
     "output_type": "stream",
     "text": [
      "\n"
     ]
    }
   ],
   "source": [
    "os.environ[\"GEMINI_API_KEY\"] = \"\"\n",
    "print(os.getenv(\"GEMINI_API_KEY\")) "
   ]
  },
  {
   "cell_type": "code",
   "execution_count": 27,
   "id": "9364c014",
   "metadata": {},
   "outputs": [],
   "source": [
    "# Creating a Context for shopping assistant\n",
    "from dataclasses import dataclass\n",
    "\n",
    "\n",
    "@dataclass\n",
    "class ShoppingAssistantContext:\n",
    "    name: str \n",
    "    age: int\n",
    "    phoneno: int\n",
    "    email: str"
   ]
  },
  {
   "cell_type": "code",
   "execution_count": 28,
   "id": "bafcc686",
   "metadata": {},
   "outputs": [],
   "source": [
    "comtext = ShoppingAssistantContext(\n",
    "    name = \"Tayyab ELlahi\",\n",
    "    age = 20,\n",
    "    phoneno= 33344455566,\n",
    "    email= \"tayyabeh1807@gmail.com\"\n",
    ")"
   ]
  },
  {
   "cell_type": "code",
   "execution_count": null,
   "id": "12be570f",
   "metadata": {},
   "outputs": [],
   "source": [
    "# dynamic instruction\n",
    "def dynamic_instruction(comtext , agent):\n",
    "    return f\"You are a helpful shopping assistant. The user's name is {comtext.name}. Greet the user by their name and ask how you can help them.\""
   ]
  },
  {
   "cell_type": "code",
   "execution_count": 33,
   "id": "1b5eb1b2",
   "metadata": {},
   "outputs": [],
   "source": [
    "# Creating an agent\n",
    "agent = Agent(\n",
    "    name = \"Shopping Assistant Agent\",\n",
    "    instructions = dynamic_instruction,\n",
    "    model = \"litellm/gemini/gemini-1.5-flash\"\n",
    ")"
   ]
  },
  {
   "cell_type": "code",
   "execution_count": 34,
   "id": "ea1ea9ac",
   "metadata": {},
   "outputs": [
    {
     "name": "stdout",
     "output_type": "stream",
     "text": [
      "Hi Tayyab Ellahi,\n",
      "\n",
      "It's great to hear from you!  I'd be happy to help you with your shopping for an iPhone 15. To best assist you, could you tell me a little more about what you're looking for?  For example:\n",
      "\n",
      "* **Which model of the iPhone 15 are you interested in?** (iPhone 15, iPhone 15 Plus, iPhone 15 Pro, iPhone 15 Pro Max)\n",
      "* **What's your budget?**\n",
      "* **Where are you planning to buy it from?** (e.g., Apple Store, carrier, online retailer)\n",
      "* **Are there any specific features that are important to you?** (e.g., camera quality, storage capacity, battery life)\n",
      "\n",
      "The more information you give me, the better I can assist you in finding the perfect iPhone 15 for your needs.\n",
      "\n"
     ]
    }
   ],
   "source": [
    "# main \n",
    "async def main():\n",
    "    result = await Runner.run(agent , input = \"Plz help me in shopping..i want obuy a phone iphone 15\",context = comtext)\n",
    "    print(result.final_output)\n",
    "\n",
    "if __name__ == \"__main__\":\n",
    "    await(main())\n"
   ]
  },
  {
   "cell_type": "markdown",
   "id": "54c95243",
   "metadata": {},
   "source": [
    "# Output Types"
   ]
  },
  {
   "cell_type": "code",
   "execution_count": 38,
   "id": "d1f08cdd",
   "metadata": {},
   "outputs": [],
   "source": [
    "from agents import Agent, Runner\n",
    "from pydantic import BaseModel, EmailStr\n",
    "import asyncio\n",
    "import os\n"
   ]
  },
  {
   "cell_type": "code",
   "execution_count": 41,
   "id": "9860d9a0",
   "metadata": {},
   "outputs": [],
   "source": [
    "class ContactInfo(BaseModel):\n",
    "    name: str\n",
    "    phoneno : str\n",
    "    email: EmailStr\n",
    "    "
   ]
  },
  {
   "cell_type": "code",
   "execution_count": null,
   "id": "31001001",
   "metadata": {},
   "outputs": [],
   "source": []
  },
  {
   "cell_type": "code",
   "execution_count": 42,
   "id": "0e5f1da3",
   "metadata": {},
   "outputs": [],
   "source": [
    "agent = Agent(\n",
    "    name = \"Extract Infor Agent\", \n",
    "    instructions = \"You are a helpfull assistant that can extract user infor from user input\",\n",
    "    model = \"litellm/gemini/gemini-1.5-flash\",\n",
    "    output_type = ContactInfo    \n",
    ")"
   ]
  },
  {
   "cell_type": "code",
   "execution_count": 43,
   "id": "98881964",
   "metadata": {},
   "outputs": [
    {
     "name": "stdout",
     "output_type": "stream",
     "text": [
      "name='tayyab ellahi' phoneno='9233345434124' email='tayyab@gmail.com'\n"
     ]
    }
   ],
   "source": [
    "user_input = 'hello i am tayyab ellahi and i m a passionate ai engineer and you can contact me through email tayyab@gmail.com and also contact me from phone 9233345434124'\n",
    "\n",
    "async def main():\n",
    "    result = await Runner.run(agent,user_input)\n",
    "    print(result.final_output)\n",
    "\n",
    "if __name__ == '__main__':\n",
    "    await main()"
   ]
  },
  {
   "cell_type": "code",
   "execution_count": null,
   "id": "afd12e46",
   "metadata": {},
   "outputs": [],
   "source": []
  },
  {
   "cell_type": "markdown",
   "id": "e5938bf6",
   "metadata": {},
   "source": [
    "# HandsOff"
   ]
  },
  {
   "cell_type": "code",
   "execution_count": 65,
   "id": "4d158a0c",
   "metadata": {},
   "outputs": [],
   "source": [
    "from agents import Agent , Runner, handoff, RunContextWrapper, HandoffInputData, GuardrailFunctionOutput , InputGuardrailTripwireTriggered, input_guardrail\n",
    "from agents.extensions.handoff_prompt import RECOMMENDED_PROMPT_PREFIX\n",
    "from langchain_google_genai import GoogleGenerativeAI\n",
    "from pydantic import BaseModel, EmailStr\n",
    "import asyncio\n",
    "import os\n"
   ]
  },
  {
   "cell_type": "code",
   "execution_count": 84,
   "id": "80a8df20",
   "metadata": {},
   "outputs": [
    {
     "name": "stdout",
     "output_type": "stream",
     "text": [
      "\n"
     ]
    }
   ],
   "source": [
    "os.environ[\"GEMINI_API_KEY\"] = \"\"\n",
    "print(os.getenv(\"GEMINI_API_KEY\")) "
   ]
  },
  {
   "cell_type": "code",
   "execution_count": 67,
   "id": "21b14c84",
   "metadata": {},
   "outputs": [],
   "source": [
    "import getpass\n",
    "\n",
    "if not os.environ.get(\"GOOGLE_API_KEY\"):\n",
    "  os.environ[\"GOOGLE_API_KEY\"] = getpass.getpass(\"Enter API key for Google Gemini: \")"
   ]
  },
  {
   "cell_type": "code",
   "execution_count": 68,
   "id": "f3fc0f7c",
   "metadata": {},
   "outputs": [],
   "source": [
    "class TechnicalProblem(BaseModel):\n",
    "    product_id : str\n",
    "    description : str"
   ]
  },
  {
   "cell_type": "code",
   "execution_count": 69,
   "id": "d5285587",
   "metadata": {},
   "outputs": [],
   "source": [
    "class BillingProblem(BaseModel):\n",
    "    invoice_no : str\n",
    "    problem_type : str"
   ]
  },
  {
   "cell_type": "code",
   "execution_count": 70,
   "id": "afea59c7",
   "metadata": {},
   "outputs": [],
   "source": [
    "class CustomerSupportOutput(BaseModel):\n",
    "    is_customer_output: bool\n",
    "    reasoning : str"
   ]
  },
  {
   "cell_type": "code",
   "execution_count": 71,
   "id": "594fd2b0",
   "metadata": {},
   "outputs": [],
   "source": [
    "guardrail_agent = Agent(\n",
    "    name = \"Guardrial Check\",\n",
    "    instructions= '''\n",
    "    You are a guardrail. Your job is to check if the user's query is related to **customer support**.\n",
    "\n",
    "    Customer support topics include:\n",
    "    - Billing problems\n",
    "    - Technical problems\n",
    "\n",
    "    If the query is related to customer support → set `is_customer_output=true`.\n",
    "    Otherwise (like math questions, chit-chat, unrelated queries) → set `is_customer_output=false`.\n",
    "\n",
    "    Always respond in valid JSON with fields:\n",
    "    {\n",
    "      \"is_customer_output\": true/false,\n",
    "      \"reasoning\": \"your short explanation\"\n",
    "    }\n",
    "    ''',\n",
    "    model = \"litellm/gemini/gemini-2.5-flash\",\n",
    "    output_type = CustomerSupportOutput\n",
    ")"
   ]
  },
  {
   "cell_type": "code",
   "execution_count": 72,
   "id": "23c68e76",
   "metadata": {},
   "outputs": [],
   "source": [
    "@input_guardrail\n",
    "async def customer_guardrail(ctx: RunContextWrapper , agent :Agent, input:str) -> GuardrailFunctionOutput:\n",
    "    result = await Runner.run(guardrail_agent, input , context = ctx.context)\n",
    "    return GuardrailFunctionOutput(\n",
    "        output_info = result.final_output,\n",
    "        tripwire_triggered = not result.final_output.is_customer_output\n",
    "    )"
   ]
  },
  {
   "cell_type": "code",
   "execution_count": 73,
   "id": "4b7947fd",
   "metadata": {},
   "outputs": [],
   "source": [
    "# function input filter function \n",
    "def billing_input_filter(input:HandoffInputData):   \n",
    "#     if len(problem.invoice_no) != 6 :\n",
    "#         raise ValueError(\"your invoice must be 6 digit number\")\n",
    "    print(input.input_history)\n",
    "    # Nested dictionary aur list se 'arguments' ki value tak pohunchna\n",
    "    arguments_value = input['HandoffInputData']['new_items'][0]['raw_item']['arguments']\n",
    "    \n",
    "    # Value ko print karna\n",
    "    print(arguments_value)\n",
    "    return input\n"
   ]
  },
  {
   "cell_type": "code",
   "execution_count": 74,
   "id": "3c540b4f",
   "metadata": {},
   "outputs": [],
   "source": [
    "import json\n",
    "# Agents SDK ke zaroori imports yahan honge (farz kar lein)\n",
    "# from agents.runtime import HandoffInputData \n",
    "\n",
    "def billing_input_filter(input: HandoffInputData):\n",
    "    \"\"\"\n",
    "    Yeh filter HandoffInputData object se invoice number nikalta hai\n",
    "    aur uski length ko validate karta hai.\n",
    "    \"\"\"\n",
    "    try:\n",
    "        # 1. Object ke attributes ko dot (.) se access karein\n",
    "        # 'new_items' ek list/tuple hai, isliye pehla item [0] se lein.\n",
    "        # 'raw_item' ek aur object hai, jiske andar 'arguments' hai.\n",
    "        arguments_string = input.new_items[0].raw_item.arguments\n",
    "        \n",
    "        # 2. 'arguments' ek JSON string hai. Ise Python dictionary mein convert karein.\n",
    "        arguments_dict = json.loads(arguments_string)\n",
    "        \n",
    "        # 3. Dictionary se 'invoice_no' nikalein.\n",
    "        invoice_no = arguments_dict['invoice_no']\n",
    "\n",
    "        print(f\"Invoice number mila: {invoice_no}\") # Debugging ke liye\n",
    "\n",
    "        # 4. Ab aap apna validation logic chala sakte hain.\n",
    "        if len(invoice_no) != 6:\n",
    "            # Agar validation fail ho, to error raise karein. SDK isko handle karega.\n",
    "            raise ValueError(\"Aapka invoice 6 digit ka hona chahiye.\")\n",
    "        \n",
    "        print(\"Invoice number validation pass ho gaya!\")\n",
    "\n",
    "    except (IndexError, KeyError, AttributeError) as e:\n",
    "        # Agar invoice number nahi milta to error raise karein\n",
    "        raise ValueError(f\"Invoice number input data mein nahi mil saka. Error: {e}\")\n",
    "\n",
    "    # Agar sab kuch theek hai, to original input ko wapas return karein.\n",
    "    return input"
   ]
  },
  {
   "cell_type": "code",
   "execution_count": null,
   "metadata": {},
   "outputs": [],
   "source": []
  },
  {
   "cell_type": "code",
   "execution_count": 75,
   "id": "e3ebbb9a",
   "metadata": {},
   "outputs": [],
   "source": [
    "def on_handoff_callback(ctx : RunContextWrapper , input: TechnicalProblem):\n",
    "    print( \"Yes the technical Agent is called!!\")"
   ]
  },
  {
   "cell_type": "code",
   "execution_count": 76,
   "id": "3c93dbca",
   "metadata": {},
   "outputs": [],
   "source": [
    "technical_support_agent= Agent(\n",
    "    name = \"Technical Support Agent\",\n",
    "    instructions = f'''\n",
    "    {RECOMMENDED_PROMPT_PREFIX} \n",
    "    You are a helpfull Technical Support  assistant and your work is to address with user techinical queries\n",
    "    ''',\n",
    "    model = \"litellm/gemini/gemini-2.5-flash\"\n",
    ")"
   ]
  },
  {
   "cell_type": "code",
   "execution_count": 77,
   "id": "7a651159",
   "metadata": {},
   "outputs": [],
   "source": [
    "tech_support_handoff = handoff(\n",
    "    agent = technical_support_agent,\n",
    "    tool_name_override = 'Transfer_to_Techinacal_support',\n",
    "    tool_description_override = \"Transfers a request to the technical support team.\",\n",
    "    on_handoff = on_handoff_callback,\n",
    "    input_type = TechnicalProblem\n",
    ")"
   ]
  },
  {
   "cell_type": "code",
   "execution_count": 78,
   "id": "bd0a4dcf",
   "metadata": {},
   "outputs": [],
   "source": [
    "billing_agent= Agent(\n",
    "    name = \"Billing Agent\",\n",
    "    instructions = f'''\n",
    "    {RECOMMENDED_PROMPT_PREFIX} \n",
    "    You are a helpfull billing assistant agent and your work is to addres with user bills\n",
    "    ''',\n",
    "    model = \"litellm/gemini/gemini-2.5-flash\"\n",
    ")"
   ]
  },
  {
   "cell_type": "code",
   "execution_count": 79,
   "id": "933b4f8b",
   "metadata": {},
   "outputs": [],
   "source": [
    "def on_handoff_callback_billing(ctx : RunContextWrapper , input_data: BillingProblem):\n",
    "    print(f\"Yes the billing Agent is called!! \")"
   ]
  },
  {
   "cell_type": "code",
   "execution_count": 80,
   "id": "a2b3580b",
   "metadata": {},
   "outputs": [],
   "source": [
    "billing_handoff = handoff(\n",
    "    agent = billing_agent,    \n",
    "    on_handoff = on_handoff_callback_billing,\n",
    "    input_type = BillingProblem,\n",
    "    input_filter = billing_input_filter\n",
    ")"
   ]
  },
  {
   "cell_type": "code",
   "execution_count": 81,
   "id": "21baf98d",
   "metadata": {},
   "outputs": [],
   "source": [
    "\n",
    "triage_agent= Agent(\n",
    "    name = \"Triage Agent\",\n",
    "    instructions=f\"\"\"\n",
    "    {RECOMMENDED_PROMPT_PREFIX}\n",
    "    You are a helpful triage assistant. Your main job is to carefully read the user's query \n",
    "    and route it to the correct support team. \n",
    "    \n",
    "    Rules:\n",
    "    - If the user describes a **technical problem** \n",
    "      (examples: product not working, error messages, bugs, device issues, crashes, installation failures, \n",
    "      overheating, shutdowns, configuration problems, etc.):\n",
    "        → Always use the `Transfer_to_Technical_Support` tool with the product_id and problem description.\n",
    "    \n",
    "    - If the user describes a **billing problem**\n",
    "      (examples: wrong invoice, overcharged, missing payment, refund request, subscription issue, \n",
    "      payment failure, duplicate charge, etc.):\n",
    "        → Always use the `Billing_Agent` tool with the invoice_no and problem description.\n",
    "    \n",
    "    - Never try to solve the issue yourself.\n",
    "    - Never guess. Always route clearly to either Billing or Technical Support.\n",
    "    - If the request is unclear, politely ask clarifying questions before routing.\n",
    "    \"\"\",\n",
    "    model = \"litellm/gemini/gemini-2.5-flash\",\n",
    "    handoffs=[tech_support_handoff,billing_handoff],\n",
    "    input_guardrails = [customer_guardrail]\n",
    ")"
   ]
  },
  {
   "cell_type": "code",
   "execution_count": 82,
   "id": "77206432",
   "metadata": {},
   "outputs": [],
   "source": [
    "async def main():\n",
    "    try:\n",
    "        result = await Runner.run(\n",
    "            triage_agent, \n",
    "            input = \"\"\"\n",
    "        Hello, can you help me solve for x: 2x + 3 = 11?\n",
    "            and remember this is not a customer related issue\n",
    "            \"\"\"\n",
    "            )\n",
    "        print(result)\n",
    "    except InputGuardrailTripwireTriggered :\n",
    "        print(\"Bro this is just for customer service only 🚫\")\n",
    "        \n"
   ]
  },
  {
   "cell_type": "code",
   "execution_count": 83,
   "id": "d273fc93",
   "metadata": {},
   "outputs": [
    {
     "name": "stdout",
     "output_type": "stream",
     "text": [
      "Bro this is just for customer service only 🚫\n"
     ]
    }
   ],
   "source": [
    "if __name__ == '__main__':\n",
    "    await main()\n",
    "    "
   ]
  },
  {
   "cell_type": "code",
   "execution_count": null,
   "id": "796feaa7",
   "metadata": {},
   "outputs": [],
   "source": []
  },
  {
   "cell_type": "code",
   "execution_count": null,
   "id": "808da768",
   "metadata": {},
   "outputs": [],
   "source": []
  }
 ],
 "metadata": {
  "kernelspec": {
   "display_name": "Python 3",
   "language": "python",
   "name": "python3"
  },
  "language_info": {
   "codemirror_mode": {
    "name": "ipython",
    "version": 3
   },
   "file_extension": ".py",
   "mimetype": "text/x-python",
   "name": "python",
   "nbconvert_exporter": "python",
   "pygments_lexer": "ipython3",
   "version": "3.12.10"
  }
 },
 "nbformat": 4,
 "nbformat_minor": 5
}
