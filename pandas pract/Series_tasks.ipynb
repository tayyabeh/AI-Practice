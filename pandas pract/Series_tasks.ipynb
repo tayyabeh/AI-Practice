{
  "cells": [
    {
      "cell_type": "code",
      "execution_count": 1,
      "metadata": {
        "id": "zxrbXftDYalU"
      },
      "outputs": [],
      "source": [
        "import pandas as pd\n",
        "import numpy as np"
      ]
    },
    {
      "cell_type": "markdown",
      "metadata": {
        "id": "MetYTZJpYfdz"
      },
      "source": [
        "###`Q-1:` Write a program to create an empty series."
      ]
    },
    {
      "cell_type": "code",
      "execution_count": 2,
      "metadata": {
        "colab": {
          "base_uri": "https://localhost:8080/",
          "height": 84
        },
        "id": "KUcgT935YgC5",
        "outputId": "ee909a18-1f4b-4e73-b76a-3fe7e2d209d5"
      },
      "outputs": [
        {
          "data": {
            "text/plain": [
              "Series([], dtype: object)"
            ]
          },
          "execution_count": 2,
          "metadata": {},
          "output_type": "execute_result"
        }
      ],
      "source": [
        "# code here\n",
        "pd.Series([])"
      ]
    },
    {
      "cell_type": "markdown",
      "metadata": {
        "id": "jw5ybzU6YhOo"
      },
      "source": [
        "###`Q-2:` Write a Pandas program to add, subtract, multiple and divide two Pandas Series."
      ]
    },
    {
      "cell_type": "code",
      "execution_count": 3,
      "metadata": {
        "colab": {
          "base_uri": "https://localhost:8080/",
          "height": 241
        },
        "id": "EF3GgVFjYjwG",
        "outputId": "4194bd62-2e96-4ff7-bee1-d331afeb2e4b"
      },
      "outputs": [
        {
          "data": {
            "text/plain": [
              "0    3.000000\n",
              "1    2.000000\n",
              "2    1.666667\n",
              "3    1.500000\n",
              "4    1.400000\n",
              "dtype: float64"
            ]
          },
          "execution_count": 3,
          "metadata": {},
          "output_type": "execute_result"
        }
      ],
      "source": [
        "# code here\n",
        "oneser = pd.Series([1,2,3,4,5])\n",
        "twoser = pd.Series([3,4,5,6,7])\n",
        "oneser + twoser\n",
        "oneser - twoser\n",
        "oneser * twoser\n",
        "oneser / twoser\n",
        "twoser / oneser"
      ]
    },
    {
      "cell_type": "markdown",
      "metadata": {
        "id": "TZDp25jeYlB6"
      },
      "source": [
        "###`Q-3` Write a Pandas program to compare the elements of the two Pandas Series.\n",
        "Sample Series: [2, 4, 6, 8, 10], [1, 3, 5, 7, 10]\n",
        "\n"
      ]
    },
    {
      "cell_type": "code",
      "execution_count": 4,
      "metadata": {
        "colab": {
          "base_uri": "https://localhost:8080/",
          "height": 241
        },
        "id": "gFNil8ruYp1y",
        "outputId": "c1a8f76a-4ba6-4d54-825d-6e735ebd3c00"
      },
      "outputs": [
        {
          "data": {
            "text/plain": [
              "0    False\n",
              "1    False\n",
              "2    False\n",
              "3    False\n",
              "4    False\n",
              "dtype: bool"
            ]
          },
          "execution_count": 4,
          "metadata": {},
          "output_type": "execute_result"
        }
      ],
      "source": [
        "# code here\n",
        "oneser = pd.Series([2, 4, 6, 8, 10])\n",
        "twoser = pd.Series([1, 3, 5, 7, 10])\n",
        "oneser == twoser\n",
        "oneser > twoser\n",
        "oneser < twoser"
      ]
    },
    {
      "cell_type": "markdown",
      "metadata": {
        "id": "HlOBn_N6YrZz"
      },
      "source": [
        "###`Q-5.`Write a function to change the data type of given a column or a Series. Function takes series and data type as input, returns the converted series.\n",
        "```\n",
        "series = pd.Series([1,2,'Python', 2.0, True, 100])\n",
        "change to float type data\n",
        "```\n",
        "Note: Read about pd.to_numeric()"
      ]
    },
    {
      "cell_type": "code",
      "execution_count": 5,
      "metadata": {
        "colab": {
          "base_uri": "https://localhost:8080/",
          "height": 272
        },
        "id": "_SWQJCUJYwXm",
        "outputId": "391e6c63-da97-4f51-aa6e-4826c40c4e40"
      },
      "outputs": [
        {
          "data": {
            "text/plain": [
              "0      1.0\n",
              "1      2.0\n",
              "2      NaN\n",
              "3      2.0\n",
              "4      1.0\n",
              "5    100.0\n",
              "dtype: float64"
            ]
          },
          "execution_count": 5,
          "metadata": {},
          "output_type": "execute_result"
        }
      ],
      "source": [
        "# code here\n",
        "series = pd.Series([1,2,'Python', 2.0, True, 100])\n",
        "pd.to_numeric(series, errors='coerce')"
      ]
    },
    {
      "cell_type": "markdown",
      "metadata": {
        "id": "PGp3OqRIY0Va"
      },
      "source": [
        "Download data - https://drive.google.com/file/d/1LRhXwbEodeWXtzPhJCX0X9Lf_BECzvqb/view?usp=share_link\n",
        "All Batsman runs series in IPL 2008 to 2022.\n",
        "\n",
        "Below questions are based on this data."
      ]
    },
    {
      "cell_type": "markdown",
      "metadata": {
        "id": "TxFkp-L4Y23d"
      },
      "source": [
        "###`Q-6` Find top 10 most run getter from the series."
      ]
    },
    {
      "cell_type": "code",
      "execution_count": 6,
      "metadata": {
        "colab": {
          "base_uri": "https://localhost:8080/",
          "height": 429
        },
        "id": "muBgocA6Y2Bg",
        "outputId": "3bc31d13-d906-41a5-e920-5b8b70342bf5"
      },
      "outputs": [
        {
          "data": {
            "text/plain": [
              "batter\n",
              "V Kohli           6634\n",
              "S Dhawan          6244\n",
              "DA Warner         5883\n",
              "RG Sharma         5881\n",
              "SK Raina          5536\n",
              "AB de Villiers    5181\n",
              "CH Gayle          4997\n",
              "MS Dhoni          4978\n",
              "RV Uthappa        4954\n",
              "KD Karthik        4377\n",
              "Name: batsman_run, dtype: int64"
            ]
          },
          "execution_count": 6,
          "metadata": {},
          "output_type": "execute_result"
        }
      ],
      "source": [
        "# code here\n",
        "batsman_run = pd.read_csv('dataset/batsman_runs_series.csv',index_col='batter').squeeze()\n",
        "batsman_run.sort_values(ascending=False).head(10)"
      ]
    },
    {
      "cell_type": "markdown",
      "metadata": {
        "id": "GzlCFBM_Y83g"
      },
      "source": [
        "###`Q-7` No of players having runs above 3000"
      ]
    },
    {
      "cell_type": "code",
      "execution_count": 11,
      "metadata": {
        "colab": {
          "base_uri": "https://localhost:8080/",
          "height": 280
        },
        "id": "JdNchHRWY1B-",
        "outputId": "18983456-c3e9-4788-ba35-ecfae03fd798"
      },
      "outputs": [
        {
          "data": {
            "text/plain": [
              "np.int64(20)"
            ]
          },
          "execution_count": 11,
          "metadata": {},
          "output_type": "execute_result"
        }
      ],
      "source": [
        "# code here\n",
        "batsman_run[batsman_run> 3000].value_counts().sum()"
      ]
    },
    {
      "cell_type": "markdown",
      "metadata": {
        "id": "pMBEoCL1Y-vh"
      },
      "source": [
        "###`Q-8` No of players having runs above mean value?"
      ]
    },
    {
      "cell_type": "code",
      "execution_count": 15,
      "metadata": {
        "id": "LgtViVFZZBIu"
      },
      "outputs": [
        {
          "data": {
            "text/plain": [
              "np.int64(128)"
            ]
          },
          "execution_count": 15,
          "metadata": {},
          "output_type": "execute_result"
        }
      ],
      "source": [
        "# code here\n",
        "batsman_run[batsman_run>batsman_run.mean()].value_counts().sum()"
      ]
    },
    {
      "cell_type": "markdown",
      "metadata": {
        "id": "OAB1CgdgZEqE"
      },
      "source": [
        "Download data - https://drive.google.com/file/d/1QZuZ5bypUInfVvarHACLAi8tXXHvb8xd/view?usp=share_link\n",
        "\n",
        "file name - items.csv\n",
        "\n"
      ]
    },
    {
      "cell_type": "markdown",
      "metadata": {
        "id": "1UTQQImxZGLu"
      },
      "source": [
        "###`Q-9`\n",
        "    i. Read `items.csv` making `item_name` as index.\n",
        "    ii. Show no of nan values\n",
        "    ii. Item price is given in $, so convert it to rupees without currency symbol.\n",
        "    iii. Make data type of newly made series as float.\n",
        "    iv. Fill nan with mean of the series\n",
        "\n",
        "\n",
        "How csv file looks\n",
        "\n",
        "```\n",
        "item_name\titem_price\n",
        "Chips and Fresh Tomato Salsa\t$2.39\n",
        "Izze\t$3.39\n",
        "Nantucket Nectar\t$3.39\n",
        "Chips and Tomatillo-Green Chili Salsa\t$2.39\n",
        "Chicken Bowl\t$16.98\n",
        "\n",
        "```"
      ]
    },
    {
      "cell_type": "code",
      "execution_count": 58,
      "metadata": {
        "id": "1xaWkoMJZFNK"
      },
      "outputs": [
        {
          "data": {
            "text/plain": [
              "item_name\n",
              "Chips and Fresh Tomato Salsa              2.39\n",
              "Izze                                      3.39\n",
              "Nantucket Nectar                          3.39\n",
              "Chips and Tomatillo-Green Chili Salsa     2.39\n",
              "Chicken Bowl                             16.98\n",
              "                                         ...  \n",
              "Steak Burrito                            11.75\n",
              "Steak Burrito                            11.75\n",
              "Chicken Salad Bowl                       11.25\n",
              "Chicken Salad Bowl                        8.75\n",
              "Chicken Salad Bowl                        8.75\n",
              "Name: item_price, Length: 4622, dtype: float64"
            ]
          },
          "execution_count": 58,
          "metadata": {},
          "output_type": "execute_result"
        }
      ],
      "source": [
        "# code here\n",
        "item = pd.read_csv('dataset\\\\items.csv',index_col='item_name').squeeze()\n",
        "item.isna().size\n",
        "item = item.str.replace(\"$\", \"\", regex=False).astype(float)\n",
        "item.fillna(item.mean())"
      ]
    },
    {
      "cell_type": "markdown",
      "metadata": {
        "id": "UHc_4e9cZK8r"
      },
      "source": [
        "###`Q-10`:\n",
        "    i. Find mean price\n",
        "    ii. Find 30th and 6th percentile value\n",
        "    iii. Plot Histogram on price with bin size 50\n",
        "    iv. No of items price lies between [1000 to 2000]\n",
        "\n"
      ]
    },
    {
      "cell_type": "code",
      "execution_count": 63,
      "metadata": {
        "id": "Eh3xX9FpZNmE"
      },
      "outputs": [
        {
          "name": "stdout",
          "output_type": "stream",
          "text": [
            "Mean Price: 7.463031496062992\n",
            "30th Percentile: nan\n",
            "6th Percentile: nan\n"
          ]
        },
        {
          "data": {
            "image/png": "[encoded data removed]",
            "text/plain": [
              "<Figure size 800x500 with 1 Axes>"
            ]
          },
          "metadata": {},
          "output_type": "display_data"
        },
        {
          "name": "stdout",
          "output_type": "stream",
          "text": [
            "Number of items with price between 1000 and 2000: 0\n"
          ]
        }
      ],
      "source": [
        "# code here\n",
        "import matplotlib.pyplot as plt\n",
        "\n",
        "# (i) Find mean price\n",
        "mean_price = item.mean()\n",
        "print(f\"Mean Price: {mean_price}\")\n",
        "\n",
        "# (ii) Find 30th and 6th percentile values\n",
        "percentile_30 = np.percentile(item, 30)\n",
        "percentile_6 = np.percentile(item, 6)\n",
        "\n",
        "print(f\"30th Percentile: {percentile_30}\")\n",
        "print(f\"6th Percentile: {percentile_6}\")\n",
        "\n",
        "# (iii) Plot Histogram with bin size 50\n",
        "plt.figure(figsize=(8,5))\n",
        "plt.hist(item, bins=50, edgecolor='black', alpha=0.7)\n",
        "plt.xlabel(\"Price\")\n",
        "plt.ylabel(\"Frequency\")\n",
        "plt.title(\"Histogram of Item Prices\")\n",
        "plt.grid(True)\n",
        "plt.show()\n",
        "\n",
        "# (iv) Count number of items with price between 1000 and 2000\n",
        "count_1000_2000 = ((item >= 1000) & (item <= 2000)).sum()\n",
        "print(f\"Number of items with price between 1000 and 2000: {count_1000_2000}\")\n",
        "\n"
      ]
    },
    {
      "cell_type": "code",
      "execution_count": null,
      "metadata": {},
      "outputs": [],
      "source": []
    }
  ],
  "metadata": {
    "colab": {
      "provenance": []
    },
    "kernelspec": {
      "display_name": "Python 3",
      "name": "python3"
    },
    "language_info": {
      "codemirror_mode": {
        "name": "ipython",
        "version": 3
      },
      "file_extension": ".py",
      "mimetype": "text/x-python",
      "name": "python",
      "nbconvert_exporter": "python",
      "pygments_lexer": "ipython3",
      "version": "3.13.1"
    }
  },
  "nbformat": 4,
  "nbformat_minor": 0
}
